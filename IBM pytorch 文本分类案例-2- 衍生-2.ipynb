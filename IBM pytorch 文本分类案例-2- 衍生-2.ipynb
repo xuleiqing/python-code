{
 "cells": [
  {
   "cell_type": "markdown",
   "id": "5a75baa9-36fd-429c-9869-b31d0059dccd",
   "metadata": {},
   "source": [
    "https://www.kaggle.com/code/suvroo/complete-nlp-pipeline"
   ]
  },
  {
   "cell_type": "code",
   "execution_count": null,
   "id": "bd7e1b4a-f81b-4d1a-9152-57b5b02bd1e8",
   "metadata": {},
   "outputs": [],
   "source": []
  }
 ],
 "metadata": {
  "kernelspec": {
   "display_name": "Python 3 (ipykernel)",
   "language": "python",
   "name": "python3"
  },
  "language_info": {
   "codemirror_mode": {
    "name": "ipython",
    "version": 3
   },
   "file_extension": ".py",
   "mimetype": "text/x-python",
   "name": "python",
   "nbconvert_exporter": "python",
   "pygments_lexer": "ipython3",
   "version": "3.11.7"
  }
 },
 "nbformat": 4,
 "nbformat_minor": 5
}
