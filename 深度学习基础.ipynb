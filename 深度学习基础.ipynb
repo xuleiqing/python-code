{
 "cells": [
  {
   "cell_type": "markdown",
   "id": "c0a6482b-d12b-4e6f-aa19-0d225bca9e23",
   "metadata": {},
   "source": [
    "深度学习基础"
   ]
  },
  {
   "cell_type": "markdown",
   "id": "5af62479-ea11-415f-9a45-c8909f69cd73",
   "metadata": {},
   "source": [
    "https://blog.csdn.net/u010986241/article/details/140353454?ops_request_misc=&request_id=&biz_id=102&utm_term=python%20%E6%B7%B1%E5%BA%A6%E5%AD%A6%E4%B9%A0&utm_medium=distribute.pc_search_result.none-task-blog-2~all~sobaiduweb~default-1-140353454.142^v100^pc_search_result_base9&spm=1018.2226.3001.4187"
   ]
  },
  {
   "cell_type": "code",
   "execution_count": 2,
   "id": "3161c714-e6f9-4efa-8379-530409070b56",
   "metadata": {},
   "outputs": [],
   "source": [
    "import numpy as np\n",
    "\n",
    "# 定义一个简单的神经网络\n",
    "class SimpleNN:\n",
    "    def __init__(self, input_size, hidden_size, output_size):\n",
    "        self.W1 = np.random.randn(input_size, hidden_size)\n",
    "        self.W2 = np.random.randn(hidden_size, output_size)\n",
    "    \n",
    "    def forward(self, X):\n",
    "        self.z1 = np.dot(X, self.W1)\n",
    "        self.a1 = self.sigmoid(self.z1)\n",
    "        self.z2 = np.dot(self.a1, self.W2)\n",
    "        self.a2 = self.sigmoid(self.z2)\n",
    "        return self.a2\n",
    "    \n",
    "    def sigmoid(self, s):\n",
    "        return 1 / (1 + np.exp(-s))\n",
    "    \n",
    "    def sigmoid_derivative(self, s):\n",
    "        return s * (1 - s)\n"
   ]
  },
  {
   "cell_type": "code",
   "execution_count": null,
   "id": "8c678042-d006-4375-86f5-8d7e7e84377e",
   "metadata": {},
   "outputs": [],
   "source": []
  },
  {
   "cell_type": "code",
   "execution_count": null,
   "id": "11be1278-e914-4ef8-9205-8a3d40f6b29a",
   "metadata": {},
   "outputs": [],
   "source": []
  }
 ],
 "metadata": {
  "kernelspec": {
   "display_name": "Python 3 (ipykernel)",
   "language": "python",
   "name": "python3"
  },
  "language_info": {
   "codemirror_mode": {
    "name": "ipython",
    "version": 3
   },
   "file_extension": ".py",
   "mimetype": "text/x-python",
   "name": "python",
   "nbconvert_exporter": "python",
   "pygments_lexer": "ipython3",
   "version": "3.11.7"
  }
 },
 "nbformat": 4,
 "nbformat_minor": 5
}
