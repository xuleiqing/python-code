{
 "cells": [
  {
   "cell_type": "markdown",
   "id": "88be5a6a-2b02-4aed-b833-10b675a2383d",
   "metadata": {},
   "source": [
    "https://www.kaggle.com/code/konradb/ts-10-validation-methods-for-time-series"
   ]
  },
  {
   "cell_type": "code",
   "execution_count": null,
   "id": "aa4cbe16-0b35-406d-94f5-b0795219cc49",
   "metadata": {},
   "outputs": [],
   "source": []
  }
 ],
 "metadata": {
  "kernelspec": {
   "display_name": "Python 3 (ipykernel)",
   "language": "python",
   "name": "python3"
  },
  "language_info": {
   "codemirror_mode": {
    "name": "ipython",
    "version": 3
   },
   "file_extension": ".py",
   "mimetype": "text/x-python",
   "name": "python",
   "nbconvert_exporter": "python",
   "pygments_lexer": "ipython3",
   "version": "3.11.7"
  }
 },
 "nbformat": 4,
 "nbformat_minor": 5
}
