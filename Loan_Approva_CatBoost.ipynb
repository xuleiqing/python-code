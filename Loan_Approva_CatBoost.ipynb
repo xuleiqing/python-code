{
 "cells": [
  {
   "cell_type": "markdown",
   "id": "cdcfa445-3df9-4388-a601-7c10fbaaa58a",
   "metadata": {},
   "source": [
    "https://www.kaggle.com/code/rv1922/s4-e10-loan-approval-catboost-auc-roc"
   ]
  },
  {
   "cell_type": "code",
   "execution_count": 1,
   "id": "88509e53-8a56-4d95-8fb0-9adacb29d96d",
   "metadata": {},
   "outputs": [],
   "source": [
    "import pandas as pd\n",
    "import numpy as np\n",
    "import matplotlib.pyplot as plt\n",
    "import seaborn as sns\n",
    "from catboost import CatBoostClassifier\n",
    "from sklearn.preprocessing import MinMaxScaler\n",
    "from sklearn.preprocessing import LabelEncoder\n",
    "from sklearn.metrics import roc_auc_score, accuracy_score, roc_curve\n",
    "from sklearn.model_selection import StratifiedKFold\n",
    "import numpy as np\n",
    "from catboost import Pool, CatBoostClassifier\n",
    "from sklearn.model_selection import StratifiedKFold\n",
    "from sklearn.metrics import roc_auc_score\n",
    "import plotly.graph_objects as go\n",
    "import warnings\n",
    "warnings.filterwarnings(\"ignore\")"
   ]
  },
  {
   "cell_type": "code",
   "execution_count": 2,
   "id": "d1cc62d1-24af-40c5-ae20-943ded10aaa4",
   "metadata": {},
   "outputs": [],
   "source": [
    "import os\n",
    "os.chdir('E:\\Python code\\Loan Approval Prediction')"
   ]
  },
  {
   "cell_type": "code",
   "execution_count": 3,
   "id": "f15bc19d-0979-45e4-82d3-2c1370aa6794",
   "metadata": {},
   "outputs": [],
   "source": [
    "train1 = pd.read_csv('train.csv')\n",
    "test = pd.read_csv('test.csv')\n",
    "submission = pd.read_csv('sample_submission.csv')\n",
    "original = pd.read_csv('credit_risk_dataset.csv')"
   ]
  },
  {
   "cell_type": "code",
   "execution_count": 4,
   "id": "f66f8a42-0174-4523-8b5d-c2f89a85a6c2",
   "metadata": {},
   "outputs": [],
   "source": [
    "train = pd.concat([train1, original], ignore_index=True)\n",
    "train['id'] = np.arange(91226)"
   ]
  },
  {
   "cell_type": "code",
   "execution_count": 5,
   "id": "c616a278-57b9-48bd-b70c-1a9a915cc52d",
   "metadata": {},
   "outputs": [
    {
     "data": {
      "text/html": [
       "<div>\n",
       "<style scoped>\n",
       "    .dataframe tbody tr th:only-of-type {\n",
       "        vertical-align: middle;\n",
       "    }\n",
       "\n",
       "    .dataframe tbody tr th {\n",
       "        vertical-align: top;\n",
       "    }\n",
       "\n",
       "    .dataframe thead th {\n",
       "        text-align: right;\n",
       "    }\n",
       "</style>\n",
       "<table border=\"1\" class=\"dataframe\">\n",
       "  <thead>\n",
       "    <tr style=\"text-align: right;\">\n",
       "      <th></th>\n",
       "      <th>id</th>\n",
       "      <th>person_age</th>\n",
       "      <th>person_income</th>\n",
       "      <th>person_home_ownership</th>\n",
       "      <th>person_emp_length</th>\n",
       "      <th>loan_intent</th>\n",
       "      <th>loan_grade</th>\n",
       "      <th>loan_amnt</th>\n",
       "      <th>loan_int_rate</th>\n",
       "      <th>loan_percent_income</th>\n",
       "      <th>cb_person_default_on_file</th>\n",
       "      <th>cb_person_cred_hist_length</th>\n",
       "      <th>loan_status</th>\n",
       "    </tr>\n",
       "  </thead>\n",
       "  <tbody>\n",
       "    <tr>\n",
       "      <th>0</th>\n",
       "      <td>0</td>\n",
       "      <td>37</td>\n",
       "      <td>35000</td>\n",
       "      <td>RENT</td>\n",
       "      <td>0.0</td>\n",
       "      <td>EDUCATION</td>\n",
       "      <td>B</td>\n",
       "      <td>6000</td>\n",
       "      <td>11.49</td>\n",
       "      <td>0.17</td>\n",
       "      <td>N</td>\n",
       "      <td>14</td>\n",
       "      <td>0</td>\n",
       "    </tr>\n",
       "    <tr>\n",
       "      <th>1</th>\n",
       "      <td>1</td>\n",
       "      <td>22</td>\n",
       "      <td>56000</td>\n",
       "      <td>OWN</td>\n",
       "      <td>6.0</td>\n",
       "      <td>MEDICAL</td>\n",
       "      <td>C</td>\n",
       "      <td>4000</td>\n",
       "      <td>13.35</td>\n",
       "      <td>0.07</td>\n",
       "      <td>N</td>\n",
       "      <td>2</td>\n",
       "      <td>0</td>\n",
       "    </tr>\n",
       "    <tr>\n",
       "      <th>2</th>\n",
       "      <td>2</td>\n",
       "      <td>29</td>\n",
       "      <td>28800</td>\n",
       "      <td>OWN</td>\n",
       "      <td>8.0</td>\n",
       "      <td>PERSONAL</td>\n",
       "      <td>A</td>\n",
       "      <td>6000</td>\n",
       "      <td>8.90</td>\n",
       "      <td>0.21</td>\n",
       "      <td>N</td>\n",
       "      <td>10</td>\n",
       "      <td>0</td>\n",
       "    </tr>\n",
       "    <tr>\n",
       "      <th>3</th>\n",
       "      <td>3</td>\n",
       "      <td>30</td>\n",
       "      <td>70000</td>\n",
       "      <td>RENT</td>\n",
       "      <td>14.0</td>\n",
       "      <td>VENTURE</td>\n",
       "      <td>B</td>\n",
       "      <td>12000</td>\n",
       "      <td>11.11</td>\n",
       "      <td>0.17</td>\n",
       "      <td>N</td>\n",
       "      <td>5</td>\n",
       "      <td>0</td>\n",
       "    </tr>\n",
       "    <tr>\n",
       "      <th>4</th>\n",
       "      <td>4</td>\n",
       "      <td>22</td>\n",
       "      <td>60000</td>\n",
       "      <td>RENT</td>\n",
       "      <td>2.0</td>\n",
       "      <td>MEDICAL</td>\n",
       "      <td>A</td>\n",
       "      <td>6000</td>\n",
       "      <td>6.92</td>\n",
       "      <td>0.10</td>\n",
       "      <td>N</td>\n",
       "      <td>3</td>\n",
       "      <td>0</td>\n",
       "    </tr>\n",
       "  </tbody>\n",
       "</table>\n",
       "</div>"
      ],
      "text/plain": [
       "   id  person_age  person_income person_home_ownership  person_emp_length  \\\n",
       "0   0          37          35000                  RENT                0.0   \n",
       "1   1          22          56000                   OWN                6.0   \n",
       "2   2          29          28800                   OWN                8.0   \n",
       "3   3          30          70000                  RENT               14.0   \n",
       "4   4          22          60000                  RENT                2.0   \n",
       "\n",
       "  loan_intent loan_grade  loan_amnt  loan_int_rate  loan_percent_income  \\\n",
       "0   EDUCATION          B       6000          11.49                 0.17   \n",
       "1     MEDICAL          C       4000          13.35                 0.07   \n",
       "2    PERSONAL          A       6000           8.90                 0.21   \n",
       "3     VENTURE          B      12000          11.11                 0.17   \n",
       "4     MEDICAL          A       6000           6.92                 0.10   \n",
       "\n",
       "  cb_person_default_on_file  cb_person_cred_hist_length  loan_status  \n",
       "0                         N                          14            0  \n",
       "1                         N                           2            0  \n",
       "2                         N                          10            0  \n",
       "3                         N                           5            0  \n",
       "4                         N                           3            0  "
      ]
     },
     "execution_count": 5,
     "metadata": {},
     "output_type": "execute_result"
    }
   ],
   "source": [
    "train.head()"
   ]
  },
  {
   "cell_type": "code",
   "execution_count": 6,
   "id": "320fd840-e709-436d-9490-f386f17363f3",
   "metadata": {},
   "outputs": [
    {
     "name": "stdout",
     "output_type": "stream",
     "text": [
      "<class 'pandas.core.frame.DataFrame'>\n",
      "RangeIndex: 91226 entries, 0 to 91225\n",
      "Data columns (total 13 columns):\n",
      " #   Column                      Non-Null Count  Dtype  \n",
      "---  ------                      --------------  -----  \n",
      " 0   id                          91226 non-null  int32  \n",
      " 1   person_age                  91226 non-null  int64  \n",
      " 2   person_income               91226 non-null  int64  \n",
      " 3   person_home_ownership       91226 non-null  object \n",
      " 4   person_emp_length           90331 non-null  float64\n",
      " 5   loan_intent                 91226 non-null  object \n",
      " 6   loan_grade                  91226 non-null  object \n",
      " 7   loan_amnt                   91226 non-null  int64  \n",
      " 8   loan_int_rate               88110 non-null  float64\n",
      " 9   loan_percent_income         91226 non-null  float64\n",
      " 10  cb_person_default_on_file   91226 non-null  object \n",
      " 11  cb_person_cred_hist_length  91226 non-null  int64  \n",
      " 12  loan_status                 91226 non-null  int64  \n",
      "dtypes: float64(3), int32(1), int64(5), object(4)\n",
      "memory usage: 8.7+ MB\n"
     ]
    }
   ],
   "source": [
    "train.info()"
   ]
  },
  {
   "cell_type": "code",
   "execution_count": 7,
   "id": "33da33b4-9070-46b4-b28a-c124f39acf6d",
   "metadata": {},
   "outputs": [
    {
     "data": {
      "text/plain": [
       "id                               0\n",
       "person_age                       0\n",
       "person_income                    0\n",
       "person_home_ownership            0\n",
       "person_emp_length              895\n",
       "loan_intent                      0\n",
       "loan_grade                       0\n",
       "loan_amnt                        0\n",
       "loan_int_rate                 3116\n",
       "loan_percent_income              0\n",
       "cb_person_default_on_file        0\n",
       "cb_person_cred_hist_length       0\n",
       "loan_status                      0\n",
       "dtype: int64"
      ]
     },
     "execution_count": 7,
     "metadata": {},
     "output_type": "execute_result"
    }
   ],
   "source": [
    "train.isnull().sum()"
   ]
  },
  {
   "cell_type": "code",
   "execution_count": 8,
   "id": "d134c3b5-9641-4939-8d39-145ae0780452",
   "metadata": {},
   "outputs": [
    {
     "data": {
      "text/html": [
       "<div>\n",
       "<style scoped>\n",
       "    .dataframe tbody tr th:only-of-type {\n",
       "        vertical-align: middle;\n",
       "    }\n",
       "\n",
       "    .dataframe tbody tr th {\n",
       "        vertical-align: top;\n",
       "    }\n",
       "\n",
       "    .dataframe thead th {\n",
       "        text-align: right;\n",
       "    }\n",
       "</style>\n",
       "<table border=\"1\" class=\"dataframe\">\n",
       "  <thead>\n",
       "    <tr style=\"text-align: right;\">\n",
       "      <th></th>\n",
       "      <th>count</th>\n",
       "      <th>mean</th>\n",
       "      <th>std</th>\n",
       "      <th>min</th>\n",
       "      <th>25%</th>\n",
       "      <th>50%</th>\n",
       "      <th>75%</th>\n",
       "      <th>max</th>\n",
       "    </tr>\n",
       "  </thead>\n",
       "  <tbody>\n",
       "    <tr>\n",
       "      <th>id</th>\n",
       "      <td>91226.0</td>\n",
       "      <td>45612.500000</td>\n",
       "      <td>26334.822166</td>\n",
       "      <td>0.00</td>\n",
       "      <td>22806.25</td>\n",
       "      <td>45612.50</td>\n",
       "      <td>68418.75</td>\n",
       "      <td>91225.00</td>\n",
       "    </tr>\n",
       "    <tr>\n",
       "      <th>person_age</th>\n",
       "      <td>91226.0</td>\n",
       "      <td>27.616480</td>\n",
       "      <td>6.148115</td>\n",
       "      <td>20.00</td>\n",
       "      <td>23.00</td>\n",
       "      <td>26.00</td>\n",
       "      <td>30.00</td>\n",
       "      <td>144.00</td>\n",
       "    </tr>\n",
       "    <tr>\n",
       "      <th>person_income</th>\n",
       "      <td>91226.0</td>\n",
       "      <td>64770.706224</td>\n",
       "      <td>47936.961097</td>\n",
       "      <td>4000.00</td>\n",
       "      <td>40000.00</td>\n",
       "      <td>57000.00</td>\n",
       "      <td>78000.00</td>\n",
       "      <td>6000000.00</td>\n",
       "    </tr>\n",
       "    <tr>\n",
       "      <th>person_emp_length</th>\n",
       "      <td>90331.0</td>\n",
       "      <td>4.732119</td>\n",
       "      <td>4.025068</td>\n",
       "      <td>0.00</td>\n",
       "      <td>2.00</td>\n",
       "      <td>4.00</td>\n",
       "      <td>7.00</td>\n",
       "      <td>123.00</td>\n",
       "    </tr>\n",
       "    <tr>\n",
       "      <th>loan_amnt</th>\n",
       "      <td>91226.0</td>\n",
       "      <td>9350.348607</td>\n",
       "      <td>5848.605423</td>\n",
       "      <td>500.00</td>\n",
       "      <td>5000.00</td>\n",
       "      <td>8000.00</td>\n",
       "      <td>12000.00</td>\n",
       "      <td>35000.00</td>\n",
       "    </tr>\n",
       "    <tr>\n",
       "      <th>loan_int_rate</th>\n",
       "      <td>88110.0</td>\n",
       "      <td>10.789508</td>\n",
       "      <td>3.108998</td>\n",
       "      <td>5.42</td>\n",
       "      <td>7.88</td>\n",
       "      <td>10.95</td>\n",
       "      <td>13.11</td>\n",
       "      <td>23.22</td>\n",
       "    </tr>\n",
       "    <tr>\n",
       "      <th>loan_percent_income</th>\n",
       "      <td>91226.0</td>\n",
       "      <td>0.163154</td>\n",
       "      <td>0.097491</td>\n",
       "      <td>0.00</td>\n",
       "      <td>0.09</td>\n",
       "      <td>0.14</td>\n",
       "      <td>0.22</td>\n",
       "      <td>0.83</td>\n",
       "    </tr>\n",
       "    <tr>\n",
       "      <th>cb_person_cred_hist_length</th>\n",
       "      <td>91226.0</td>\n",
       "      <td>5.810219</td>\n",
       "      <td>4.038412</td>\n",
       "      <td>2.00</td>\n",
       "      <td>3.00</td>\n",
       "      <td>4.00</td>\n",
       "      <td>8.00</td>\n",
       "      <td>30.00</td>\n",
       "    </tr>\n",
       "    <tr>\n",
       "      <th>loan_status</th>\n",
       "      <td>91226.0</td>\n",
       "      <td>0.169447</td>\n",
       "      <td>0.375149</td>\n",
       "      <td>0.00</td>\n",
       "      <td>0.00</td>\n",
       "      <td>0.00</td>\n",
       "      <td>0.00</td>\n",
       "      <td>1.00</td>\n",
       "    </tr>\n",
       "  </tbody>\n",
       "</table>\n",
       "</div>"
      ],
      "text/plain": [
       "                              count          mean           std      min  \\\n",
       "id                          91226.0  45612.500000  26334.822166     0.00   \n",
       "person_age                  91226.0     27.616480      6.148115    20.00   \n",
       "person_income               91226.0  64770.706224  47936.961097  4000.00   \n",
       "person_emp_length           90331.0      4.732119      4.025068     0.00   \n",
       "loan_amnt                   91226.0   9350.348607   5848.605423   500.00   \n",
       "loan_int_rate               88110.0     10.789508      3.108998     5.42   \n",
       "loan_percent_income         91226.0      0.163154      0.097491     0.00   \n",
       "cb_person_cred_hist_length  91226.0      5.810219      4.038412     2.00   \n",
       "loan_status                 91226.0      0.169447      0.375149     0.00   \n",
       "\n",
       "                                 25%       50%       75%         max  \n",
       "id                          22806.25  45612.50  68418.75    91225.00  \n",
       "person_age                     23.00     26.00     30.00      144.00  \n",
       "person_income               40000.00  57000.00  78000.00  6000000.00  \n",
       "person_emp_length               2.00      4.00      7.00      123.00  \n",
       "loan_amnt                    5000.00   8000.00  12000.00    35000.00  \n",
       "loan_int_rate                   7.88     10.95     13.11       23.22  \n",
       "loan_percent_income             0.09      0.14      0.22        0.83  \n",
       "cb_person_cred_hist_length      3.00      4.00      8.00       30.00  \n",
       "loan_status                     0.00      0.00      0.00        1.00  "
      ]
     },
     "execution_count": 8,
     "metadata": {},
     "output_type": "execute_result"
    }
   ],
   "source": [
    "train.describe().T"
   ]
  },
  {
   "cell_type": "code",
   "execution_count": 9,
   "id": "c25067c8-5e6f-4d88-bb37-26e1e19b3285",
   "metadata": {},
   "outputs": [],
   "source": [
    "train['person_emp_length'] = train['person_emp_length'].fillna(train['person_emp_length'].median())\n",
    "train['loan_int_rate'] = train['loan_int_rate'].fillna(train['loan_int_rate'].median())"
   ]
  },
  {
   "cell_type": "code",
   "execution_count": 10,
   "id": "c6ef0f16-7ced-4f1a-9ed1-7652e00417b5",
   "metadata": {},
   "outputs": [],
   "source": [
    "train = train[(train.person_age<=100) & (train.person_emp_length<=100)].reset_index(drop=True)"
   ]
  },
  {
   "cell_type": "code",
   "execution_count": 11,
   "id": "ce8b2bf2-6d90-497c-83a5-0471f5a22501",
   "metadata": {},
   "outputs": [],
   "source": [
    "def preprocess_data(train, test):\n",
    "    # Encoding categorical variables\n",
    "    train['person_home_ownership'].replace({'RENT': 0, 'MORTGAGE': 1, 'OWN': 2, 'OTHER': 3}, inplace=True)\n",
    "    train['loan_intent'].replace({'EDUCATION': 0, 'MEDICAL': 1, 'PERSONAL': 2, 'VENTURE': 3, 'DEBTCONSOLIDATION': 4, 'HOMEIMPROVEMENT': 5}, inplace=True)\n",
    "    train['loan_grade'].replace({'A': 0, 'B': 1, 'C': 2, 'D': 3, 'E': 4, 'F': 5, 'G': 6}, inplace=True)\n",
    "    train['cb_person_default_on_file'].replace({'N': 0, 'Y': 1}, inplace=True)\n",
    "    \n",
    "    test['person_home_ownership'].replace({'RENT': 0, 'MORTGAGE': 1, 'OWN': 2, 'OTHER': 3}, inplace=True)\n",
    "    test['loan_intent'].replace({'EDUCATION': 0, 'MEDICAL': 1, 'PERSONAL': 2, 'VENTURE': 3, 'DEBTCONSOLIDATION': 4, 'HOMEIMPROVEMENT': 5}, inplace=True)\n",
    "    test['loan_grade'].replace({'A': 0, 'B': 1, 'C': 2, 'D': 3, 'E': 4, 'F': 5, 'G': 6}, inplace=True)\n",
    "    test['cb_person_default_on_file'].replace({'N': 0, 'Y': 1}, inplace=True)\n",
    "\n",
    "    # Handling missing values and converting data types\n",
    "    test['person_emp_length'] = test['person_emp_length'].fillna(original['person_emp_length'].mean())\n",
    "    test['person_emp_length'] = test['person_emp_length'].astype(int)\n",
    "    test['loan_int_rate'] = test['loan_int_rate'].fillna(original['loan_int_rate'].mean())\n",
    "    test['loan_int_rate'] = (test['loan_int_rate'] * 100).astype(int)\n",
    "    test['loan_percent_income'] = (test['loan_percent_income'] * 100).astype(int)\n",
    "\n",
    "    train['person_emp_length'].fillna(original['person_emp_length'].mean(), inplace=True)\n",
    "    train['person_emp_length'] = train['person_emp_length'].astype(int)\n",
    "    train['loan_int_rate'] = train['loan_int_rate'].fillna(original['loan_int_rate'].mean())\n",
    "    train['loan_int_rate'] = (train['loan_int_rate'] * 100).astype(int)\n",
    "    train['loan_percent_income'] = (train['loan_percent_income'] * 100).astype(int)\n",
    "    \n",
    "    return train, test"
   ]
  },
  {
   "cell_type": "code",
   "execution_count": 12,
   "id": "68c7041e-7c1f-4e7c-b82b-dce957334aa7",
   "metadata": {},
   "outputs": [],
   "source": [
    "train, test = preprocess_data(train, test)"
   ]
  },
  {
   "cell_type": "markdown",
   "id": "cd9f4e04-c8f1-420d-a46d-3612bd282625",
   "metadata": {},
   "source": [
    "# Train Model"
   ]
  },
  {
   "cell_type": "code",
   "execution_count": 13,
   "id": "6026a57c-ae4f-4415-a237-3f86524d79b9",
   "metadata": {},
   "outputs": [],
   "source": [
    "X = train.drop(columns=['loan_status'])\n",
    "y = train['loan_status']"
   ]
  },
  {
   "cell_type": "code",
   "execution_count": 14,
   "id": "82767059-ee93-4957-88c9-f5fe1c0c4838",
   "metadata": {},
   "outputs": [],
   "source": [
    "catboost_params = {\n",
    "    'loss_function': 'Logloss',\n",
    "    'eval_metric': 'AUC',\n",
    "    'learning_rate': 0.08114394459649094,\n",
    "    'iterations': 1000,\n",
    "    'depth': 6,\n",
    "    'random_strength': 0,\n",
    "    'l2_leaf_reg': 0.7047064221215757,\n",
    "    'task_type': 'GPU',\n",
    "    'random_seed': 42,\n",
    "    'verbose': False\n",
    "}"
   ]
  },
  {
   "cell_type": "code",
   "execution_count": 15,
   "id": "baec19e7-6df6-451c-8cf5-62375b61ab84",
   "metadata": {},
   "outputs": [],
   "source": [
    "cv = StratifiedKFold(5, shuffle=True, random_state=0)\n",
    "cv_splits = cv.split(X, y)"
   ]
  },
  {
   "cell_type": "code",
   "execution_count": 16,
   "id": "28bec5dd-fef4-4cde-b6b1-fdce2035e1a0",
   "metadata": {},
   "outputs": [],
   "source": [
    "scores = []\n",
    "test_preds = []"
   ]
  },
  {
   "cell_type": "code",
   "execution_count": 17,
   "id": "4d39aaa4-f5da-411c-b5f6-86a85bfee409",
   "metadata": {},
   "outputs": [],
   "source": [
    "X_test_pool = Pool(test, cat_features=X.columns.values)"
   ]
  },
  {
   "cell_type": "code",
   "execution_count": 18,
   "id": "39ceaa77-becc-4313-9a77-57866a9301e9",
   "metadata": {},
   "outputs": [
    {
     "name": "stderr",
     "output_type": "stream",
     "text": [
      "Default metric period is 5 because AUC is/are not implemented for GPU\n"
     ]
    },
    {
     "name": "stdout",
     "output_type": "stream",
     "text": [
      "Fold 1 roc_auc_score: 0.9683513232363111\n"
     ]
    },
    {
     "name": "stderr",
     "output_type": "stream",
     "text": [
      "Default metric period is 5 because AUC is/are not implemented for GPU\n"
     ]
    },
    {
     "name": "stdout",
     "output_type": "stream",
     "text": [
      "Fold 2 roc_auc_score: 0.9672331054801264\n"
     ]
    },
    {
     "name": "stderr",
     "output_type": "stream",
     "text": [
      "Default metric period is 5 because AUC is/are not implemented for GPU\n"
     ]
    },
    {
     "name": "stdout",
     "output_type": "stream",
     "text": [
      "Fold 3 roc_auc_score: 0.968232169595484\n"
     ]
    },
    {
     "name": "stderr",
     "output_type": "stream",
     "text": [
      "Default metric period is 5 because AUC is/are not implemented for GPU\n"
     ]
    },
    {
     "name": "stdout",
     "output_type": "stream",
     "text": [
      "Fold 4 roc_auc_score: 0.9652028643980191\n"
     ]
    },
    {
     "name": "stderr",
     "output_type": "stream",
     "text": [
      "Default metric period is 5 because AUC is/are not implemented for GPU\n"
     ]
    },
    {
     "name": "stdout",
     "output_type": "stream",
     "text": [
      "Fold 5 roc_auc_score: 0.9642011099772921\n"
     ]
    }
   ],
   "source": [
    "for i, (train_idx, val_idx) in enumerate(cv_splits):\n",
    "    model = CatBoostClassifier(**catboost_params)\n",
    "    \n",
    "    X_train_fold, X_val_fold = X.loc[train_idx], X.loc[val_idx]\n",
    "    y_train_fold, y_val_fold = y.loc[train_idx], y.loc[val_idx]\n",
    "    \n",
    "    X_train_pool = Pool(X_train_fold, y_train_fold, cat_features=X.columns.values)\n",
    "    X_valid_pool = Pool(X_val_fold, y_val_fold, cat_features=X.columns.values)\n",
    "\n",
    "    model.fit(X=X_train_pool, eval_set=X_valid_pool, verbose=False, early_stopping_rounds=200)\n",
    "    \n",
    "    val_pred = model.predict_proba(X_valid_pool)[:, 1]\n",
    "    score = roc_auc_score(y_val_fold, val_pred)\n",
    "    scores.append(score)\n",
    "    \n",
    "    print(f'Fold {i + 1} roc_auc_score: {score}')\n",
    "    \n",
    "    test_pred = model.predict_proba(X_test_pool)[:, 1]\n",
    "    test_preds.append(test_pred)"
   ]
  },
  {
   "cell_type": "markdown",
   "id": "996a4eca-81ad-4177-83dc-d5c619af2c67",
   "metadata": {},
   "source": [
    "# Model Evaluation"
   ]
  },
  {
   "cell_type": "code",
   "execution_count": 19,
   "id": "cfe2516f-59cc-42fa-9749-7052896098cc",
   "metadata": {},
   "outputs": [
    {
     "name": "stdout",
     "output_type": "stream",
     "text": [
      "Cross-validated roc_auc_score: 0.967 +/- 0.002\n",
      "Max roc_auc_score: 0.968\n",
      "Min roc_auc_score: 0.964\n"
     ]
    }
   ],
   "source": [
    "print(f'Cross-validated roc_auc_score: {np.mean(scores):.3f} +/- {np.std(scores):.3f}')\n",
    "print(f'Max roc_auc_score: {np.max(scores):.3f}')\n",
    "print(f'Min roc_auc_score: {np.min(scores):.3f}')"
   ]
  },
  {
   "cell_type": "code",
   "execution_count": 20,
   "id": "689df995-a247-4fdd-9ae9-c680e13da946",
   "metadata": {},
   "outputs": [
    {
     "data": {
      "image/png": "[encoded data removed]",
      "text/plain": [
       "<Figure size 800x600 with 1 Axes>"
      ]
     },
     "metadata": {},
     "output_type": "display_data"
    }
   ],
   "source": [
    "plt.figure(figsize=(8, 6))\n",
    "plt.plot(range(1, len(scores) + 1), scores, marker='o', linestyle='-', color='b', label='ROC AUC score')\n",
    "plt.title('ROC AUC Score Across Folds')\n",
    "plt.xlabel('Fold Number')\n",
    "plt.ylabel('ROC AUC Score')\n",
    "plt.xticks(range(1, len(scores) + 1))\n",
    "plt.grid(True)\n",
    "plt.legend()\n",
    "plt.show()"
   ]
  },
  {
   "cell_type": "markdown",
   "id": "00eca183-861f-45ac-af39-034225a66af2",
   "metadata": {},
   "source": [
    "# Prediction"
   ]
  },
  {
   "cell_type": "code",
   "execution_count": 21,
   "id": "ce8fba50-c926-4015-bcce-8e40facedefd",
   "metadata": {},
   "outputs": [
    {
     "name": "stdout",
     "output_type": "stream",
     "text": [
      "          id  loan_status\n",
      "0      58645     0.999955\n",
      "1      58646     0.019122\n",
      "2      58647     0.410390\n",
      "3      58648     0.005121\n",
      "4      58649     0.023303\n",
      "...      ...          ...\n",
      "39093  97738     0.077962\n",
      "39094  97739     0.004157\n",
      "39095  97740     0.003585\n",
      "39096  97741     0.256335\n",
      "39097  97742     0.960501\n",
      "\n",
      "[39098 rows x 2 columns]\n"
     ]
    }
   ],
   "source": [
    "final_pred_test = np.mean(test_preds, axis=0)\n",
    "\n",
    "submission = test[['id']].copy()\n",
    "submission['loan_status'] = final_pred_test  \n",
    "print(submission)"
   ]
  },
  {
   "cell_type": "code",
   "execution_count": 22,
   "id": "1223e741-9478-4e5c-9220-6ab3c74efcb7",
   "metadata": {},
   "outputs": [
    {
     "name": "stdout",
     "output_type": "stream",
     "text": [
      "File Saved!!\n"
     ]
    }
   ],
   "source": [
    "submission.to_csv('submission.csv', index=False)\n",
    "print(\"File Saved!!\")"
   ]
  },
  {
   "cell_type": "code",
   "execution_count": null,
   "id": "001eccb4-d340-48e2-ac00-7bdcd1516de7",
   "metadata": {},
   "outputs": [],
   "source": []
  },
  {
   "cell_type": "code",
   "execution_count": null,
   "id": "3f6588ba-d68f-4f0c-98ab-f3d42841ebb8",
   "metadata": {},
   "outputs": [],
   "source": []
  }
 ],
 "metadata": {
  "kernelspec": {
   "display_name": "Python 3 (ipykernel)",
   "language": "python",
   "name": "python3"
  },
  "language_info": {
   "codemirror_mode": {
    "name": "ipython",
    "version": 3
   },
   "file_extension": ".py",
   "mimetype": "text/x-python",
   "name": "python",
   "nbconvert_exporter": "python",
   "pygments_lexer": "ipython3",
   "version": "3.11.7"
  }
 },
 "nbformat": 4,
 "nbformat_minor": 5
}
