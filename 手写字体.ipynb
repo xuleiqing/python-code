{
 "cells": [
  {
   "cell_type": "markdown",
   "id": "7baeeda7-af49-487a-bec5-ea1643eb592c",
   "metadata": {},
   "source": [
    "https://www.kaggle.com/code/annastasy/cnn-in-digit-recognition-99-5/notebook"
   ]
  },
  {
   "cell_type": "code",
   "execution_count": 1,
   "id": "eb4b90fc-a74e-46f4-b62d-ee0279ca5400",
   "metadata": {},
   "outputs": [
    {
     "name": "stdout",
     "output_type": "stream",
     "text": [
      "WARNING:tensorflow:From D:\\anaconda\\Lib\\site-packages\\keras\\src\\losses.py:2976: The name tf.losses.sparse_softmax_cross_entropy is deprecated. Please use tf.compat.v1.losses.sparse_softmax_cross_entropy instead.\n",
      "\n"
     ]
    }
   ],
   "source": [
    "import numpy as np \n",
    "import pandas as pd \n",
    "import matplotlib.pyplot as plt\n",
    "import seaborn as sns\n",
    "from sklearn.metrics import confusion_matrix\n",
    "\n",
    "from sklearn.model_selection import train_test_split\n",
    "\n",
    "import tensorflow as tf\n",
    "from tensorflow.keras import Sequential\n",
    "from tensorflow.keras.layers import Conv2D, MaxPooling2D, Flatten, Dense, Dropout, BatchNormalization\n",
    "from tensorflow.keras.regularizers import L2\n",
    "from tensorflow.keras.losses import SparseCategoricalCrossentropy\n",
    "from tensorflow.keras.metrics import SparseCategoricalAccuracy\n",
    "from tensorflow.keras.optimizers import Adam\n",
    "from tensorflow.keras.preprocessing.image import ImageDataGenerator\n",
    "\n",
    "# Suppress warnings\n",
    "import warnings\n",
    "warnings.filterwarnings('ignore')"
   ]
  },
  {
   "cell_type": "code",
   "execution_count": 2,
   "id": "f5a24dfd-6f68-4e14-892f-83f1c1cfffef",
   "metadata": {},
   "outputs": [],
   "source": [
    "import os \n",
    "os.chdir('E:\\Python code\\手写字体')\n",
    "\n",
    "train = pd.read_csv(\"train.csv\")\n",
    "test = pd.read_csv('test.csv')"
   ]
  },
  {
   "cell_type": "markdown",
   "id": "7c15f467-3475-4d63-9d96-5f02e1987e72",
   "metadata": {},
   "source": [
    "# Separating features and labels"
   ]
  },
  {
   "cell_type": "code",
   "execution_count": 4,
   "id": "aacfdcc2-97ba-463f-8ca6-abbc233f66ef",
   "metadata": {},
   "outputs": [],
   "source": [
    "X = train.drop(\"label\", axis=1) \n",
    "y = train.label"
   ]
  },
  {
   "cell_type": "markdown",
   "id": "d3d49569-3981-4bf8-8aac-54b9b23a37ec",
   "metadata": {},
   "source": [
    "# Data normalization¶\n",
    "This step ensures that our input data is in a suitable range for training a neural network, leading to better performance and faster learning."
   ]
  },
  {
   "cell_type": "code",
   "execution_count": 5,
   "id": "c78348d6-8ed1-485e-932c-fc2d163d1f33",
   "metadata": {},
   "outputs": [],
   "source": [
    "# Normalize the data (scale pixel values between 0 and 1)\n",
    "X = X / 255.0\n",
    "X_test = test / 255.0"
   ]
  },
  {
   "cell_type": "markdown",
   "id": "8a06b42c-9bc4-4096-8130-8f31b997019a",
   "metadata": {},
   "source": [
    "Spliting data into training and testing sets"
   ]
  },
  {
   "cell_type": "code",
   "execution_count": 6,
   "id": "d0798b97-f631-4a8d-8fa4-5b063c348080",
   "metadata": {},
   "outputs": [],
   "source": [
    "X_train, X_val, y_train, y_val = train_test_split(X, y, test_size=0.1, random_state=1)"
   ]
  },
  {
   "cell_type": "code",
   "execution_count": 7,
   "id": "a1ba50a2-cd82-4498-bc29-bd48f3b9cfb5",
   "metadata": {},
   "outputs": [
    {
     "data": {
      "image/png": "[encoded data removed]",
      "text/plain": [
       "<Figure size 1500x500 with 30 Axes>"
      ]
     },
     "metadata": {},
     "output_type": "display_data"
    }
   ],
   "source": [
    "X_reshaped = X_train.to_numpy().reshape(-1, 28, 28, 1)\n",
    "\n",
    "plt.figure(figsize=(15, 5))\n",
    "for i in range(30):  \n",
    "    plt.subplot(3, 10, i+1)\n",
    "    plt.imshow(X_reshaped[i, :, :, 0], cmap=plt.cm.binary)  # Access the 28x28 image directly\n",
    "    plt.axis('off')\n",
    "plt.subplots_adjust(wspace=-0.1, hspace=-0.1)\n",
    "plt.show()"
   ]
  },
  {
   "cell_type": "markdown",
   "id": "6b919a31-9042-4b0b-8c9a-0ad30e97ebbe",
   "metadata": {},
   "source": [
    "# 4. Dense Neural Network\n",
    "¶\n",
    "A dense neural network, also known as a fully connected neural network (FCNN) or multi-layer perceptron (MLP), is a machine learning model that connects each layer to the previous layer.\n",
    "\n",
    "We will train the model through iterative steps, starting with a simple version. If the model shows signs of high bias or underfitting, we'll increase its complexity. If the model shows high variance or overfitting, we'll boost the regularization. This approach should help us achieve better results."
   ]
  },
  {
   "cell_type": "code",
   "execution_count": 8,
   "id": "f7250cdf-646b-4c5c-9444-bd21d9f47e65",
   "metadata": {},
   "outputs": [
    {
     "name": "stdout",
     "output_type": "stream",
     "text": [
      "WARNING:tensorflow:From D:\\anaconda\\Lib\\site-packages\\keras\\src\\backend.py:873: The name tf.get_default_graph is deprecated. Please use tf.compat.v1.get_default_graph instead.\n",
      "\n"
     ]
    }
   ],
   "source": [
    "# Define a simple model\n",
    "model = Sequential([\n",
    "    Dense(units=25, activation='relu'),\n",
    "    Dense(units=15, activation='relu'),\n",
    "    Dense(units=10, activation='softmax')\n",
    "])"
   ]
  },
  {
   "cell_type": "code",
   "execution_count": 9,
   "id": "8080f390-af14-4c40-8ca0-fc87c4d2f6ad",
   "metadata": {},
   "outputs": [],
   "source": [
    "# Compile the model with an Adam optimizer and metrics\n",
    "model.compile(\n",
    "    optimizer = Adam(learning_rate=1e-3),\n",
    "    loss=SparseCategoricalCrossentropy(),\n",
    "    metrics=['accuracy']\n",
    ")"
   ]
  },
  {
   "cell_type": "code",
   "execution_count": 10,
   "id": "373d43a9-8ac2-4ae1-89ca-ab2e955336c1",
   "metadata": {},
   "outputs": [
    {
     "name": "stdout",
     "output_type": "stream",
     "text": [
      "Epoch 1/30\n",
      "WARNING:tensorflow:From D:\\anaconda\\Lib\\site-packages\\keras\\src\\utils\\tf_utils.py:492: The name tf.ragged.RaggedTensorValue is deprecated. Please use tf.compat.v1.ragged.RaggedTensorValue instead.\n",
      "\n",
      "WARNING:tensorflow:From D:\\anaconda\\Lib\\site-packages\\keras\\src\\engine\\base_layer_utils.py:384: The name tf.executing_eagerly_outside_functions is deprecated. Please use tf.compat.v1.executing_eagerly_outside_functions instead.\n",
      "\n",
      "1182/1182 [==============================] - 4s 2ms/step - loss: 0.4891 - accuracy: 0.8616 - val_loss: 0.2664 - val_accuracy: 0.9210\n",
      "Epoch 2/30\n",
      "1182/1182 [==============================] - 2s 2ms/step - loss: 0.2294 - accuracy: 0.9334 - val_loss: 0.2077 - val_accuracy: 0.9381\n",
      "Epoch 3/30\n",
      "1182/1182 [==============================] - 2s 2ms/step - loss: 0.1853 - accuracy: 0.9456 - val_loss: 0.1955 - val_accuracy: 0.9436\n",
      "Epoch 4/30\n",
      "1182/1182 [==============================] - 2s 2ms/step - loss: 0.1639 - accuracy: 0.9513 - val_loss: 0.1831 - val_accuracy: 0.9450\n",
      "Epoch 5/30\n",
      "1182/1182 [==============================] - 2s 2ms/step - loss: 0.1440 - accuracy: 0.9576 - val_loss: 0.1704 - val_accuracy: 0.9498\n",
      "Epoch 6/30\n",
      "1182/1182 [==============================] - 2s 2ms/step - loss: 0.1316 - accuracy: 0.9614 - val_loss: 0.1765 - val_accuracy: 0.9490\n",
      "Epoch 7/30\n",
      "1182/1182 [==============================] - 2s 2ms/step - loss: 0.1219 - accuracy: 0.9630 - val_loss: 0.1639 - val_accuracy: 0.9512\n",
      "Epoch 8/30\n",
      "1182/1182 [==============================] - 2s 2ms/step - loss: 0.1146 - accuracy: 0.9654 - val_loss: 0.1627 - val_accuracy: 0.9495\n",
      "Epoch 9/30\n",
      "1182/1182 [==============================] - 2s 2ms/step - loss: 0.1048 - accuracy: 0.9687 - val_loss: 0.1766 - val_accuracy: 0.9462\n",
      "Epoch 10/30\n",
      "1182/1182 [==============================] - 2s 2ms/step - loss: 0.0986 - accuracy: 0.9697 - val_loss: 0.1599 - val_accuracy: 0.9540\n",
      "Epoch 11/30\n",
      "1182/1182 [==============================] - 2s 2ms/step - loss: 0.0942 - accuracy: 0.9712 - val_loss: 0.1668 - val_accuracy: 0.9510\n",
      "Epoch 12/30\n",
      "1182/1182 [==============================] - 2s 2ms/step - loss: 0.0888 - accuracy: 0.9731 - val_loss: 0.1612 - val_accuracy: 0.9550\n",
      "Epoch 13/30\n",
      "1182/1182 [==============================] - 2s 2ms/step - loss: 0.0839 - accuracy: 0.9742 - val_loss: 0.1577 - val_accuracy: 0.9567\n",
      "Epoch 14/30\n",
      "1182/1182 [==============================] - 2s 2ms/step - loss: 0.0811 - accuracy: 0.9749 - val_loss: 0.1666 - val_accuracy: 0.9545\n",
      "Epoch 15/30\n",
      "1182/1182 [==============================] - 2s 2ms/step - loss: 0.0761 - accuracy: 0.9768 - val_loss: 0.1735 - val_accuracy: 0.9555\n",
      "Epoch 16/30\n",
      "1182/1182 [==============================] - 2s 2ms/step - loss: 0.0736 - accuracy: 0.9769 - val_loss: 0.1608 - val_accuracy: 0.9562\n",
      "Epoch 17/30\n",
      "1182/1182 [==============================] - 2s 2ms/step - loss: 0.0689 - accuracy: 0.9796 - val_loss: 0.1720 - val_accuracy: 0.9564\n",
      "Epoch 18/30\n",
      "1182/1182 [==============================] - 2s 2ms/step - loss: 0.0669 - accuracy: 0.9790 - val_loss: 0.1656 - val_accuracy: 0.9557\n",
      "Epoch 19/30\n",
      "1182/1182 [==============================] - 2s 2ms/step - loss: 0.0642 - accuracy: 0.9802 - val_loss: 0.1713 - val_accuracy: 0.9583\n",
      "Epoch 20/30\n",
      "1182/1182 [==============================] - 2s 2ms/step - loss: 0.0619 - accuracy: 0.9809 - val_loss: 0.1725 - val_accuracy: 0.9560\n",
      "Epoch 21/30\n",
      "1182/1182 [==============================] - 2s 2ms/step - loss: 0.0594 - accuracy: 0.9812 - val_loss: 0.1808 - val_accuracy: 0.9555\n",
      "Epoch 22/30\n",
      "1182/1182 [==============================] - 2s 2ms/step - loss: 0.0566 - accuracy: 0.9819 - val_loss: 0.1770 - val_accuracy: 0.9590\n",
      "Epoch 23/30\n",
      "1182/1182 [==============================] - 2s 2ms/step - loss: 0.0539 - accuracy: 0.9831 - val_loss: 0.1866 - val_accuracy: 0.9579\n",
      "Epoch 24/30\n",
      "1182/1182 [==============================] - 2s 2ms/step - loss: 0.0537 - accuracy: 0.9834 - val_loss: 0.1794 - val_accuracy: 0.9576\n",
      "Epoch 25/30\n",
      "1182/1182 [==============================] - 2s 2ms/step - loss: 0.0504 - accuracy: 0.9844 - val_loss: 0.1839 - val_accuracy: 0.9555\n",
      "Epoch 26/30\n",
      "1182/1182 [==============================] - 2s 2ms/step - loss: 0.0476 - accuracy: 0.9848 - val_loss: 0.1946 - val_accuracy: 0.9562\n",
      "Epoch 27/30\n",
      "1182/1182 [==============================] - 2s 2ms/step - loss: 0.0456 - accuracy: 0.9856 - val_loss: 0.1866 - val_accuracy: 0.9586\n",
      "Epoch 28/30\n",
      "1182/1182 [==============================] - 2s 2ms/step - loss: 0.0441 - accuracy: 0.9861 - val_loss: 0.1987 - val_accuracy: 0.9533\n",
      "Epoch 29/30\n",
      "1182/1182 [==============================] - 2s 2ms/step - loss: 0.0416 - accuracy: 0.9868 - val_loss: 0.1980 - val_accuracy: 0.9593\n",
      "Epoch 30/30\n",
      "1182/1182 [==============================] - 2s 2ms/step - loss: 0.0416 - accuracy: 0.9870 - val_loss: 0.2046 - val_accuracy: 0.9574\n"
     ]
    },
    {
     "data": {
      "text/plain": [
       "<keras.src.callbacks.History at 0x13caa9fd9d0>"
      ]
     },
     "execution_count": 10,
     "metadata": {},
     "output_type": "execute_result"
    }
   ],
   "source": [
    "# Train the model\n",
    "model.fit(X_train, y_train, epochs=30, validation_data=(X_val, y_val))"
   ]
  },
  {
   "cell_type": "code",
   "execution_count": 11,
   "id": "2ab6d18f-d65d-4b03-b911-330bde6f0b3b",
   "metadata": {},
   "outputs": [
    {
     "name": "stdout",
     "output_type": "stream",
     "text": [
      "Epoch 1/30\n",
      "1182/1182 [==============================] - 3s 2ms/step - loss: 0.6027 - accuracy: 0.8526 - val_loss: 0.3587 - val_accuracy: 0.9224\n",
      "Epoch 2/30\n",
      "1182/1182 [==============================] - 2s 2ms/step - loss: 0.3326 - accuracy: 0.9330 - val_loss: 0.3214 - val_accuracy: 0.9379\n",
      "Epoch 3/30\n",
      "1182/1182 [==============================] - 2s 2ms/step - loss: 0.3004 - accuracy: 0.9429 - val_loss: 0.3008 - val_accuracy: 0.9424\n",
      "Epoch 4/30\n",
      "1182/1182 [==============================] - 2s 2ms/step - loss: 0.2829 - accuracy: 0.9484 - val_loss: 0.2889 - val_accuracy: 0.9464\n",
      "Epoch 5/30\n",
      "1182/1182 [==============================] - 2s 2ms/step - loss: 0.2717 - accuracy: 0.9534 - val_loss: 0.2749 - val_accuracy: 0.9507\n",
      "Epoch 6/30\n",
      "1182/1182 [==============================] - 2s 2ms/step - loss: 0.2633 - accuracy: 0.9567 - val_loss: 0.2764 - val_accuracy: 0.9507\n",
      "Epoch 7/30\n",
      "1182/1182 [==============================] - 2s 2ms/step - loss: 0.2562 - accuracy: 0.9582 - val_loss: 0.2669 - val_accuracy: 0.9564\n",
      "Epoch 8/30\n",
      "1182/1182 [==============================] - 2s 2ms/step - loss: 0.2523 - accuracy: 0.9607 - val_loss: 0.2562 - val_accuracy: 0.9583\n",
      "Epoch 9/30\n",
      "1182/1182 [==============================] - 2s 2ms/step - loss: 0.2463 - accuracy: 0.9635 - val_loss: 0.2633 - val_accuracy: 0.9545\n",
      "Epoch 10/30\n",
      "1182/1182 [==============================] - 2s 2ms/step - loss: 0.2447 - accuracy: 0.9624 - val_loss: 0.2585 - val_accuracy: 0.9581\n",
      "Epoch 11/30\n",
      "1182/1182 [==============================] - 2s 2ms/step - loss: 0.2412 - accuracy: 0.9642 - val_loss: 0.2555 - val_accuracy: 0.9602\n",
      "Epoch 12/30\n",
      "1182/1182 [==============================] - 2s 2ms/step - loss: 0.2389 - accuracy: 0.9650 - val_loss: 0.2686 - val_accuracy: 0.9533\n",
      "Epoch 13/30\n",
      "1182/1182 [==============================] - 2s 2ms/step - loss: 0.2367 - accuracy: 0.9664 - val_loss: 0.2554 - val_accuracy: 0.9595\n",
      "Epoch 14/30\n",
      "1182/1182 [==============================] - 2s 2ms/step - loss: 0.2357 - accuracy: 0.9666 - val_loss: 0.2567 - val_accuracy: 0.9600\n",
      "Epoch 15/30\n",
      "1182/1182 [==============================] - 2s 2ms/step - loss: 0.2344 - accuracy: 0.9663 - val_loss: 0.2504 - val_accuracy: 0.9593\n",
      "Epoch 16/30\n",
      "1182/1182 [==============================] - 2s 2ms/step - loss: 0.2325 - accuracy: 0.9676 - val_loss: 0.2623 - val_accuracy: 0.9557\n",
      "Epoch 17/30\n",
      "1182/1182 [==============================] - 2s 2ms/step - loss: 0.2318 - accuracy: 0.9680 - val_loss: 0.2507 - val_accuracy: 0.9629\n",
      "Epoch 18/30\n",
      "1182/1182 [==============================] - 2s 2ms/step - loss: 0.2306 - accuracy: 0.9689 - val_loss: 0.2578 - val_accuracy: 0.9574\n",
      "Epoch 19/30\n",
      "1182/1182 [==============================] - 2s 2ms/step - loss: 0.2303 - accuracy: 0.9680 - val_loss: 0.2549 - val_accuracy: 0.9593\n",
      "Epoch 20/30\n",
      "1182/1182 [==============================] - 2s 2ms/step - loss: 0.2285 - accuracy: 0.9689 - val_loss: 0.2686 - val_accuracy: 0.9552\n",
      "Epoch 21/30\n",
      "1182/1182 [==============================] - 2s 2ms/step - loss: 0.2285 - accuracy: 0.9685 - val_loss: 0.2440 - val_accuracy: 0.9638\n",
      "Epoch 22/30\n",
      "1182/1182 [==============================] - 2s 2ms/step - loss: 0.2282 - accuracy: 0.9689 - val_loss: 0.2442 - val_accuracy: 0.9624\n",
      "Epoch 23/30\n",
      "1182/1182 [==============================] - 2s 2ms/step - loss: 0.2271 - accuracy: 0.9695 - val_loss: 0.2461 - val_accuracy: 0.9631\n",
      "Epoch 24/30\n",
      "1182/1182 [==============================] - 2s 2ms/step - loss: 0.2261 - accuracy: 0.9699 - val_loss: 0.2394 - val_accuracy: 0.9643\n",
      "Epoch 25/30\n",
      "1182/1182 [==============================] - 2s 2ms/step - loss: 0.2259 - accuracy: 0.9701 - val_loss: 0.2444 - val_accuracy: 0.9629\n",
      "Epoch 26/30\n",
      "1182/1182 [==============================] - 2s 2ms/step - loss: 0.2238 - accuracy: 0.9706 - val_loss: 0.2488 - val_accuracy: 0.9621\n",
      "Epoch 27/30\n",
      "1182/1182 [==============================] - 2s 2ms/step - loss: 0.2242 - accuracy: 0.9704 - val_loss: 0.2408 - val_accuracy: 0.9652\n",
      "Epoch 28/30\n",
      "1182/1182 [==============================] - 2s 2ms/step - loss: 0.2223 - accuracy: 0.9707 - val_loss: 0.2448 - val_accuracy: 0.9619\n",
      "Epoch 29/30\n",
      "1182/1182 [==============================] - 2s 2ms/step - loss: 0.2222 - accuracy: 0.9712 - val_loss: 0.2476 - val_accuracy: 0.9612\n",
      "Epoch 30/30\n",
      "1182/1182 [==============================] - 2s 2ms/step - loss: 0.2226 - accuracy: 0.9705 - val_loss: 0.2416 - val_accuracy: 0.9631\n"
     ]
    },
    {
     "data": {
      "text/plain": [
       "<keras.src.callbacks.History at 0x13cb02d57d0>"
      ]
     },
     "execution_count": 11,
     "metadata": {},
     "output_type": "execute_result"
    }
   ],
   "source": [
    "# Define a model with regularization\n",
    "model = Sequential([\n",
    "    Dense(units=25, activation='relu', kernel_regularizer=L2(0.001)),\n",
    "    Dense(units=15, activation='relu', kernel_regularizer=L2(0.001)),\n",
    "    Dense(units=10, activation='softmax', kernel_regularizer=L2(0.001))\n",
    "])\n",
    "\n",
    "# Compile the model with an Adam optimizer and metrics\n",
    "model.compile(\n",
    "    optimizer = Adam(learning_rate=1e-3),\n",
    "    loss=SparseCategoricalCrossentropy(),\n",
    "    metrics=['accuracy']\n",
    ")\n",
    "\n",
    "# Train the model\n",
    "model.fit(X_train, y_train, epochs=30, validation_data=(X_val, y_val))"
   ]
  },
  {
   "cell_type": "code",
   "execution_count": 12,
   "id": "4b0c21f6-a3ee-4f6f-8864-01f780d2f6e0",
   "metadata": {},
   "outputs": [
    {
     "name": "stdout",
     "output_type": "stream",
     "text": [
      "Epoch 1/50\n",
      "1182/1182 [==============================] - 9s 6ms/step - loss: 2.8317 - accuracy: 0.3999 - val_loss: 1.6417 - val_accuracy: 0.8152\n",
      "Epoch 2/50\n",
      "1182/1182 [==============================] - 7s 6ms/step - loss: 1.7359 - accuracy: 0.7421 - val_loss: 1.2628 - val_accuracy: 0.8926\n",
      "Epoch 3/50\n",
      "1182/1182 [==============================] - 7s 6ms/step - loss: 1.4142 - accuracy: 0.8328 - val_loss: 1.1210 - val_accuracy: 0.9126\n",
      "Epoch 4/50\n",
      "1182/1182 [==============================] - 7s 6ms/step - loss: 1.2424 - accuracy: 0.8734 - val_loss: 1.0294 - val_accuracy: 0.9252\n",
      "Epoch 5/50\n",
      "1182/1182 [==============================] - 7s 6ms/step - loss: 1.1252 - accuracy: 0.8982 - val_loss: 0.9515 - val_accuracy: 0.9374\n",
      "Epoch 6/50\n",
      "1182/1182 [==============================] - 7s 6ms/step - loss: 1.0278 - accuracy: 0.9138 - val_loss: 0.8930 - val_accuracy: 0.9438\n",
      "Epoch 7/50\n",
      "1182/1182 [==============================] - 7s 6ms/step - loss: 0.9564 - accuracy: 0.9229 - val_loss: 0.8330 - val_accuracy: 0.9505\n",
      "Epoch 8/50\n",
      "1182/1182 [==============================] - 7s 6ms/step - loss: 0.8906 - accuracy: 0.9315 - val_loss: 0.7837 - val_accuracy: 0.9545\n",
      "Epoch 9/50\n",
      "1182/1182 [==============================] - 7s 6ms/step - loss: 0.8327 - accuracy: 0.9383 - val_loss: 0.7381 - val_accuracy: 0.9564\n",
      "Epoch 10/50\n",
      "1182/1182 [==============================] - 7s 6ms/step - loss: 0.7809 - accuracy: 0.9437 - val_loss: 0.6945 - val_accuracy: 0.9607\n",
      "Epoch 11/50\n",
      "1182/1182 [==============================] - 7s 6ms/step - loss: 0.7346 - accuracy: 0.9478 - val_loss: 0.6571 - val_accuracy: 0.9631\n",
      "Epoch 12/50\n",
      "1182/1182 [==============================] - 7s 6ms/step - loss: 0.6938 - accuracy: 0.9534 - val_loss: 0.6257 - val_accuracy: 0.9638\n",
      "Epoch 13/50\n",
      "1182/1182 [==============================] - 7s 6ms/step - loss: 0.6573 - accuracy: 0.9548 - val_loss: 0.5954 - val_accuracy: 0.9660\n",
      "Epoch 14/50\n",
      "1182/1182 [==============================] - 7s 6ms/step - loss: 0.6249 - accuracy: 0.9573 - val_loss: 0.5697 - val_accuracy: 0.9664\n",
      "Epoch 15/50\n",
      "1182/1182 [==============================] - 7s 6ms/step - loss: 0.5965 - accuracy: 0.9597 - val_loss: 0.5462 - val_accuracy: 0.9667\n",
      "Epoch 16/50\n",
      "1182/1182 [==============================] - 7s 6ms/step - loss: 0.5673 - accuracy: 0.9619 - val_loss: 0.5191 - val_accuracy: 0.9690\n",
      "Epoch 17/50\n",
      "1182/1182 [==============================] - 7s 6ms/step - loss: 0.5420 - accuracy: 0.9638 - val_loss: 0.4998 - val_accuracy: 0.9700\n",
      "Epoch 18/50\n",
      "1182/1182 [==============================] - 7s 6ms/step - loss: 0.5182 - accuracy: 0.9658 - val_loss: 0.4884 - val_accuracy: 0.9662\n",
      "Epoch 19/50\n",
      "1182/1182 [==============================] - 7s 6ms/step - loss: 0.4964 - accuracy: 0.9669 - val_loss: 0.4633 - val_accuracy: 0.9724\n",
      "Epoch 20/50\n",
      "1182/1182 [==============================] - 7s 6ms/step - loss: 0.4748 - accuracy: 0.9687 - val_loss: 0.4478 - val_accuracy: 0.9736\n",
      "Epoch 21/50\n",
      "1182/1182 [==============================] - 7s 6ms/step - loss: 0.4574 - accuracy: 0.9694 - val_loss: 0.4354 - val_accuracy: 0.9733\n",
      "Epoch 22/50\n",
      "1182/1182 [==============================] - 7s 6ms/step - loss: 0.4407 - accuracy: 0.9717 - val_loss: 0.4181 - val_accuracy: 0.9740\n",
      "Epoch 23/50\n",
      "1182/1182 [==============================] - 7s 6ms/step - loss: 0.4258 - accuracy: 0.9716 - val_loss: 0.4043 - val_accuracy: 0.9762\n",
      "Epoch 24/50\n",
      "1182/1182 [==============================] - 7s 6ms/step - loss: 0.4125 - accuracy: 0.9728 - val_loss: 0.3935 - val_accuracy: 0.9755\n",
      "Epoch 25/50\n",
      "1182/1182 [==============================] - 7s 6ms/step - loss: 0.3984 - accuracy: 0.9746 - val_loss: 0.3828 - val_accuracy: 0.9767\n",
      "Epoch 26/50\n",
      "1182/1182 [==============================] - 7s 6ms/step - loss: 0.3856 - accuracy: 0.9743 - val_loss: 0.3767 - val_accuracy: 0.9757\n",
      "Epoch 27/50\n",
      "1182/1182 [==============================] - 7s 6ms/step - loss: 0.3710 - accuracy: 0.9767 - val_loss: 0.3681 - val_accuracy: 0.9736\n",
      "Epoch 28/50\n",
      "1182/1182 [==============================] - 7s 6ms/step - loss: 0.3640 - accuracy: 0.9759 - val_loss: 0.3557 - val_accuracy: 0.9762\n",
      "Epoch 29/50\n",
      "1182/1182 [==============================] - 7s 6ms/step - loss: 0.3528 - accuracy: 0.9763 - val_loss: 0.3504 - val_accuracy: 0.9752\n",
      "Epoch 30/50\n",
      "1182/1182 [==============================] - 7s 6ms/step - loss: 0.3453 - accuracy: 0.9769 - val_loss: 0.3392 - val_accuracy: 0.9760\n",
      "Epoch 31/50\n",
      "1182/1182 [==============================] - 7s 6ms/step - loss: 0.3391 - accuracy: 0.9768 - val_loss: 0.3326 - val_accuracy: 0.9769\n",
      "Epoch 32/50\n",
      "1182/1182 [==============================] - 7s 6ms/step - loss: 0.3281 - accuracy: 0.9788 - val_loss: 0.3285 - val_accuracy: 0.9764\n",
      "Epoch 33/50\n",
      "1182/1182 [==============================] - 7s 6ms/step - loss: 0.3202 - accuracy: 0.9802 - val_loss: 0.3192 - val_accuracy: 0.9781\n",
      "Epoch 34/50\n",
      "1182/1182 [==============================] - 7s 6ms/step - loss: 0.3133 - accuracy: 0.9804 - val_loss: 0.3174 - val_accuracy: 0.9771\n",
      "Epoch 35/50\n",
      "1182/1182 [==============================] - 7s 6ms/step - loss: 0.3056 - accuracy: 0.9807 - val_loss: 0.3119 - val_accuracy: 0.9769\n",
      "Epoch 36/50\n",
      "1182/1182 [==============================] - 7s 6ms/step - loss: 0.3035 - accuracy: 0.9797 - val_loss: 0.3091 - val_accuracy: 0.9764\n",
      "Epoch 37/50\n",
      "1182/1182 [==============================] - 7s 6ms/step - loss: 0.2970 - accuracy: 0.9801 - val_loss: 0.3006 - val_accuracy: 0.9793\n",
      "Epoch 38/50\n",
      "1182/1182 [==============================] - 7s 6ms/step - loss: 0.2915 - accuracy: 0.9806 - val_loss: 0.2977 - val_accuracy: 0.9779\n",
      "Epoch 39/50\n",
      "1182/1182 [==============================] - 7s 6ms/step - loss: 0.2855 - accuracy: 0.9816 - val_loss: 0.2963 - val_accuracy: 0.9771\n",
      "Epoch 40/50\n",
      "1182/1182 [==============================] - 7s 6ms/step - loss: 0.2805 - accuracy: 0.9819 - val_loss: 0.2906 - val_accuracy: 0.9769\n",
      "Epoch 41/50\n",
      "1182/1182 [==============================] - 7s 6ms/step - loss: 0.2756 - accuracy: 0.9830 - val_loss: 0.2926 - val_accuracy: 0.9762\n",
      "Epoch 42/50\n",
      "1182/1182 [==============================] - 7s 6ms/step - loss: 0.2705 - accuracy: 0.9827 - val_loss: 0.2873 - val_accuracy: 0.9769\n",
      "Epoch 43/50\n",
      "1182/1182 [==============================] - 7s 6ms/step - loss: 0.2685 - accuracy: 0.9824 - val_loss: 0.2836 - val_accuracy: 0.9781\n",
      "Epoch 44/50\n",
      "1182/1182 [==============================] - 7s 6ms/step - loss: 0.2645 - accuracy: 0.9834 - val_loss: 0.2765 - val_accuracy: 0.9790\n",
      "Epoch 45/50\n",
      "1182/1182 [==============================] - 7s 6ms/step - loss: 0.2615 - accuracy: 0.9838 - val_loss: 0.2768 - val_accuracy: 0.9800\n",
      "Epoch 46/50\n",
      "1182/1182 [==============================] - 7s 6ms/step - loss: 0.2591 - accuracy: 0.9833 - val_loss: 0.2756 - val_accuracy: 0.9783\n",
      "Epoch 47/50\n",
      "1182/1182 [==============================] - 7s 6ms/step - loss: 0.2524 - accuracy: 0.9847 - val_loss: 0.2696 - val_accuracy: 0.9795\n",
      "Epoch 48/50\n",
      "1182/1182 [==============================] - 7s 6ms/step - loss: 0.2532 - accuracy: 0.9851 - val_loss: 0.2695 - val_accuracy: 0.9786\n",
      "Epoch 49/50\n",
      "1182/1182 [==============================] - 7s 6ms/step - loss: 0.2475 - accuracy: 0.9852 - val_loss: 0.2667 - val_accuracy: 0.9783\n",
      "Epoch 50/50\n",
      "1182/1182 [==============================] - 7s 6ms/step - loss: 0.2454 - accuracy: 0.9850 - val_loss: 0.2593 - val_accuracy: 0.9810\n"
     ]
    },
    {
     "data": {
      "text/plain": [
       "<keras.src.callbacks.History at 0x13cb06c7f90>"
      ]
     },
     "execution_count": 12,
     "metadata": {},
     "output_type": "execute_result"
    }
   ],
   "source": [
    "# Define a deeper and more complex model\n",
    "model = Sequential([\n",
    "    Dense(units=512, activation='relu', kernel_regularizer=L2(0.001)),  # Increased units\n",
    "    Dropout(0.4),  # Add dropout to prevent overfitting\n",
    "    Dense(units=256, activation='relu', kernel_regularizer=L2(0.001)),\n",
    "    Dropout(0.4),\n",
    "    Dense(units=128, activation='relu', kernel_regularizer=L2(0.001)),\n",
    "    Dropout(0.3),\n",
    "    Dense(units=64, activation='relu', kernel_regularizer=L2(0.001)),\n",
    "    Dropout(0.3),\n",
    "    Dense(units=32, activation='relu', kernel_regularizer=L2(0.001)),\n",
    "    Dense(units=10, activation='softmax', kernel_regularizer=L2(0.001))  \n",
    "])\n",
    "\n",
    "# Compile the model with an Adam optimizer and metrics\n",
    "model.compile(\n",
    "    optimizer=Adam(learning_rate=5e-5),  # Reduced learning rate for better convergence\n",
    "    loss=SparseCategoricalCrossentropy(),\n",
    "    metrics=['accuracy']\n",
    ")\n",
    "\n",
    "# Train the model\n",
    "model.fit(X_train, y_train, epochs=50, validation_data=(X_val, y_val))  # Increased epochs"
   ]
  },
  {
   "cell_type": "markdown",
   "id": "124936f4-d0f4-4b58-bc74-9efe79c6a7e8",
   "metadata": {},
   "source": [
    "# 5. Convolutional Neural Network"
   ]
  },
  {
   "cell_type": "markdown",
   "id": "c92c2b0b-0095-460d-9c62-3d9769b0b811",
   "metadata": {},
   "source": [
    "Convolutional Neural Networks (CNNs) are powerful for image recognition tasks because they can capture spatial features, like edges, patterns, and shapes, making them much more effective than dense neural networks for working with images.\n",
    "\n",
    "However, to take advantage of CNNs, we need to reshape our data. The images in the dataset are originally stored as flat 1D vectors (with 784 elements for 28x28 pixel images). CNNs, though, require the data to be in 2D (28x28) with a depth of 1 for grayscale images. This allows the CNN to process the pixel structure properly and detect patterns.\n",
    "\n",
    "That’s why we convert our data from DataFrames to NumPy arrays and reshape them to (28, 28, 1). This gives CNNs the right format to work with, preserving the spatial relationships between pixels."
   ]
  },
  {
   "cell_type": "code",
   "execution_count": 13,
   "id": "148bc2c8-1173-4f1f-a9d8-a8fef42a603d",
   "metadata": {},
   "outputs": [
    {
     "name": "stdout",
     "output_type": "stream",
     "text": [
      "WARNING:tensorflow:From D:\\anaconda\\Lib\\site-packages\\keras\\src\\layers\\pooling\\max_pooling2d.py:161: The name tf.nn.max_pool is deprecated. Please use tf.nn.max_pool2d instead.\n",
      "\n",
      "Epoch 1/50\n",
      "1182/1182 [==============================] - 15s 12ms/step - loss: 0.9384 - accuracy: 0.6979 - val_loss: 0.2385 - val_accuracy: 0.9402\n",
      "Epoch 2/50\n",
      "1182/1182 [==============================] - 14s 12ms/step - loss: 0.3060 - accuracy: 0.9129 - val_loss: 0.1637 - val_accuracy: 0.9612\n",
      "Epoch 3/50\n",
      "1182/1182 [==============================] - 14s 11ms/step - loss: 0.2375 - accuracy: 0.9354 - val_loss: 0.1347 - val_accuracy: 0.9671\n",
      "Epoch 4/50\n",
      "1182/1182 [==============================] - 14s 12ms/step - loss: 0.1990 - accuracy: 0.9466 - val_loss: 0.1171 - val_accuracy: 0.9714\n",
      "Epoch 5/50\n",
      "1182/1182 [==============================] - 13s 11ms/step - loss: 0.1750 - accuracy: 0.9541 - val_loss: 0.1071 - val_accuracy: 0.9771\n",
      "Epoch 6/50\n",
      "1182/1182 [==============================] - 14s 12ms/step - loss: 0.1566 - accuracy: 0.9597 - val_loss: 0.0985 - val_accuracy: 0.9786\n",
      "Epoch 7/50\n",
      "1182/1182 [==============================] - 14s 12ms/step - loss: 0.1424 - accuracy: 0.9652 - val_loss: 0.0947 - val_accuracy: 0.9805\n",
      "Epoch 8/50\n",
      "1182/1182 [==============================] - 14s 12ms/step - loss: 0.1300 - accuracy: 0.9689 - val_loss: 0.0853 - val_accuracy: 0.9836\n",
      "Epoch 9/50\n",
      "1182/1182 [==============================] - 14s 12ms/step - loss: 0.1190 - accuracy: 0.9720 - val_loss: 0.0823 - val_accuracy: 0.9845\n",
      "Epoch 10/50\n",
      "1182/1182 [==============================] - 14s 12ms/step - loss: 0.1143 - accuracy: 0.9734 - val_loss: 0.0811 - val_accuracy: 0.9833\n",
      "Epoch 11/50\n",
      "1182/1182 [==============================] - 14s 12ms/step - loss: 0.1060 - accuracy: 0.9761 - val_loss: 0.0749 - val_accuracy: 0.9862\n",
      "Epoch 12/50\n",
      "1182/1182 [==============================] - 14s 12ms/step - loss: 0.0993 - accuracy: 0.9780 - val_loss: 0.0717 - val_accuracy: 0.9871\n",
      "Epoch 13/50\n",
      "1182/1182 [==============================] - 14s 12ms/step - loss: 0.1009 - accuracy: 0.9772 - val_loss: 0.0711 - val_accuracy: 0.9881\n",
      "Epoch 14/50\n",
      "1182/1182 [==============================] - 14s 12ms/step - loss: 0.0933 - accuracy: 0.9806 - val_loss: 0.0680 - val_accuracy: 0.9888\n",
      "Epoch 15/50\n",
      "1182/1182 [==============================] - 14s 12ms/step - loss: 0.0890 - accuracy: 0.9814 - val_loss: 0.0686 - val_accuracy: 0.9886\n",
      "Epoch 16/50\n",
      "1182/1182 [==============================] - 14s 12ms/step - loss: 0.0871 - accuracy: 0.9821 - val_loss: 0.0672 - val_accuracy: 0.9895\n",
      "Epoch 17/50\n",
      "1182/1182 [==============================] - 14s 12ms/step - loss: 0.0846 - accuracy: 0.9828 - val_loss: 0.0685 - val_accuracy: 0.9881\n",
      "Epoch 18/50\n",
      "1182/1182 [==============================] - 14s 12ms/step - loss: 0.0831 - accuracy: 0.9831 - val_loss: 0.0676 - val_accuracy: 0.9890\n",
      "Epoch 19/50\n",
      "1182/1182 [==============================] - 14s 12ms/step - loss: 0.0819 - accuracy: 0.9833 - val_loss: 0.0640 - val_accuracy: 0.9898\n",
      "Epoch 20/50\n",
      "1182/1182 [==============================] - 14s 12ms/step - loss: 0.0775 - accuracy: 0.9846 - val_loss: 0.0625 - val_accuracy: 0.9910\n",
      "Epoch 21/50\n",
      "1182/1182 [==============================] - 14s 12ms/step - loss: 0.0759 - accuracy: 0.9855 - val_loss: 0.0613 - val_accuracy: 0.9895\n",
      "Epoch 22/50\n",
      "1182/1182 [==============================] - 14s 12ms/step - loss: 0.0741 - accuracy: 0.9861 - val_loss: 0.0622 - val_accuracy: 0.9898\n",
      "Epoch 23/50\n",
      "1182/1182 [==============================] - 14s 12ms/step - loss: 0.0740 - accuracy: 0.9860 - val_loss: 0.0611 - val_accuracy: 0.9919\n",
      "Epoch 24/50\n",
      "1182/1182 [==============================] - 14s 12ms/step - loss: 0.0709 - accuracy: 0.9866 - val_loss: 0.0585 - val_accuracy: 0.9910\n",
      "Epoch 25/50\n",
      "1182/1182 [==============================] - 14s 12ms/step - loss: 0.0696 - accuracy: 0.9873 - val_loss: 0.0603 - val_accuracy: 0.9907\n",
      "Epoch 26/50\n",
      "1182/1182 [==============================] - 14s 12ms/step - loss: 0.0671 - accuracy: 0.9878 - val_loss: 0.0587 - val_accuracy: 0.9912\n",
      "Epoch 27/50\n",
      "1182/1182 [==============================] - 14s 12ms/step - loss: 0.0669 - accuracy: 0.9877 - val_loss: 0.0556 - val_accuracy: 0.9921\n",
      "Epoch 28/50\n",
      "1182/1182 [==============================] - 14s 12ms/step - loss: 0.0662 - accuracy: 0.9875 - val_loss: 0.0579 - val_accuracy: 0.9917\n",
      "Epoch 29/50\n",
      "1182/1182 [==============================] - 15s 13ms/step - loss: 0.0647 - accuracy: 0.9885 - val_loss: 0.0568 - val_accuracy: 0.9921\n",
      "Epoch 30/50\n",
      "1182/1182 [==============================] - 14s 12ms/step - loss: 0.0646 - accuracy: 0.9889 - val_loss: 0.0541 - val_accuracy: 0.9926\n",
      "Epoch 31/50\n",
      "1182/1182 [==============================] - 13s 11ms/step - loss: 0.0611 - accuracy: 0.9899 - val_loss: 0.0575 - val_accuracy: 0.9905\n",
      "Epoch 32/50\n",
      "1182/1182 [==============================] - 13s 11ms/step - loss: 0.0617 - accuracy: 0.9894 - val_loss: 0.0544 - val_accuracy: 0.9921\n",
      "Epoch 33/50\n",
      "1182/1182 [==============================] - 13s 11ms/step - loss: 0.0608 - accuracy: 0.9894 - val_loss: 0.0555 - val_accuracy: 0.9912\n",
      "Epoch 34/50\n",
      "1182/1182 [==============================] - 13s 11ms/step - loss: 0.0616 - accuracy: 0.9892 - val_loss: 0.0536 - val_accuracy: 0.9929\n",
      "Epoch 35/50\n",
      "1182/1182 [==============================] - 13s 11ms/step - loss: 0.0583 - accuracy: 0.9901 - val_loss: 0.0545 - val_accuracy: 0.9907\n",
      "Epoch 36/50\n",
      "1182/1182 [==============================] - 13s 11ms/step - loss: 0.0577 - accuracy: 0.9902 - val_loss: 0.0538 - val_accuracy: 0.9924\n",
      "Epoch 37/50\n",
      "1182/1182 [==============================] - 13s 11ms/step - loss: 0.0569 - accuracy: 0.9910 - val_loss: 0.0543 - val_accuracy: 0.9919\n",
      "Epoch 38/50\n",
      "1182/1182 [==============================] - 13s 11ms/step - loss: 0.0568 - accuracy: 0.9904 - val_loss: 0.0570 - val_accuracy: 0.9912\n",
      "Epoch 39/50\n",
      "1182/1182 [==============================] - 13s 11ms/step - loss: 0.0556 - accuracy: 0.9913 - val_loss: 0.0551 - val_accuracy: 0.9917\n",
      "Epoch 40/50\n",
      "1182/1182 [==============================] - 13s 11ms/step - loss: 0.0547 - accuracy: 0.9912 - val_loss: 0.0544 - val_accuracy: 0.9931\n",
      "Epoch 41/50\n",
      "1182/1182 [==============================] - 13s 11ms/step - loss: 0.0546 - accuracy: 0.9910 - val_loss: 0.0538 - val_accuracy: 0.9914\n",
      "Epoch 42/50\n",
      "1182/1182 [==============================] - 13s 11ms/step - loss: 0.0546 - accuracy: 0.9910 - val_loss: 0.0542 - val_accuracy: 0.9910\n",
      "Epoch 43/50\n",
      "1182/1182 [==============================] - 13s 11ms/step - loss: 0.0538 - accuracy: 0.9910 - val_loss: 0.0522 - val_accuracy: 0.9926\n",
      "Epoch 44/50\n",
      "1182/1182 [==============================] - 13s 11ms/step - loss: 0.0529 - accuracy: 0.9918 - val_loss: 0.0524 - val_accuracy: 0.9914\n",
      "Epoch 45/50\n",
      "1182/1182 [==============================] - 13s 11ms/step - loss: 0.0520 - accuracy: 0.9917 - val_loss: 0.0523 - val_accuracy: 0.9926\n",
      "Epoch 46/50\n",
      "1182/1182 [==============================] - 13s 11ms/step - loss: 0.0509 - accuracy: 0.9920 - val_loss: 0.0521 - val_accuracy: 0.9924\n",
      "Epoch 47/50\n",
      "1182/1182 [==============================] - 13s 11ms/step - loss: 0.0521 - accuracy: 0.9917 - val_loss: 0.0517 - val_accuracy: 0.9919\n",
      "Epoch 48/50\n",
      "1182/1182 [==============================] - 13s 11ms/step - loss: 0.0520 - accuracy: 0.9915 - val_loss: 0.0521 - val_accuracy: 0.9917\n",
      "Epoch 49/50\n",
      "1182/1182 [==============================] - 13s 11ms/step - loss: 0.0515 - accuracy: 0.9915 - val_loss: 0.0515 - val_accuracy: 0.9931\n",
      "Epoch 50/50\n",
      "1182/1182 [==============================] - 13s 11ms/step - loss: 0.0500 - accuracy: 0.9926 - val_loss: 0.0521 - val_accuracy: 0.9926\n"
     ]
    },
    {
     "data": {
      "text/plain": [
       "<keras.src.callbacks.History at 0x13cd641ff90>"
      ]
     },
     "execution_count": 13,
     "metadata": {},
     "output_type": "execute_result"
    }
   ],
   "source": [
    "# Convert DataFrames to NumPy arrays\n",
    "X_train = X_train.to_numpy().reshape(-1, 28, 28, 1)\n",
    "X_val = X_val.to_numpy().reshape(-1, 28, 28, 1)\n",
    "X_test = X_test.to_numpy().reshape(-1, 28, 28, 1)\n",
    "\n",
    "# Define a model with Conv2D layers\n",
    "model = Sequential([\n",
    "    Conv2D(32, kernel_size=(3, 3), activation='relu', padding = 'Same', kernel_regularizer=L2(0.0001), input_shape=(28, 28, 1)),    # First conv layer\n",
    "    MaxPooling2D(pool_size=(2, 2)),   # Pooling layer\n",
    "    Dropout(0.2),  # Dropout to reduce overfitting\n",
    "    \n",
    "    Conv2D(64, kernel_size=(3, 3), activation='relu', padding = 'Same', kernel_regularizer=L2(0.0001)),  # Second conv layer\n",
    "    MaxPooling2D(pool_size=(2, 2)),\n",
    "    Dropout(0.3),\n",
    "    \n",
    "    Conv2D(128, kernel_size=(3, 3), activation='relu', padding = 'Same', kernel_regularizer=L2(0.0001)),   # Third conv layer\n",
    "    MaxPooling2D(pool_size=(2, 2)),\n",
    "    Dropout(0.3),\n",
    "    \n",
    "    Flatten(),    # Flatten the output for dense layers\n",
    "    Dense(64, activation='relu', kernel_regularizer=L2(0.0001)),  # Fully connected layer\n",
    "    Dropout(0.2),\n",
    "    Dense(10, activation='softmax')  # Output layer\n",
    "])\n",
    "\n",
    "# Compile the model\n",
    "model.compile(\n",
    "    optimizer=Adam(learning_rate=1e-4),   \n",
    "    loss=SparseCategoricalCrossentropy(),\n",
    "    metrics=['accuracy']\n",
    ")\n",
    "\n",
    "# Train the model\n",
    "model.fit(X_train, y_train, epochs=50, validation_data=(X_val, y_val))  "
   ]
  },
  {
   "cell_type": "markdown",
   "id": "2a6aaf2a-ed26-4942-869b-bb4a0b709662",
   "metadata": {},
   "source": [
    "# Data Augmentation¶\n",
    "Data augmentation is a powerful technique used to improve the performance and generalization of machine learning models, especially in image recognition tasks like digit recognition. The idea behind data augmentation is to artificially increase the size and diversity of the training dataset by applying random transformations to the original images, such as rotations, zooms, shifts, or flips. This helps the model learn more robust features and reduces the risk of overfitting.\n",
    "\n",
    "Since our training dataset may not be large or varied enough, data augmentation allows us to create new variations of the existing images, simulating real-world scenarios where digits might be slightly tilted, resized, or shifted. This technique makes the model more adaptable and better at recognizing digits in various conditions.\n",
    "\n",
    "For this project, we use data augmentation to randomly rotate, shift, or zoom in on images, enhancing the model's ability to generalize well to unseen data. This ensures that the model doesn't simply memorize the training images but learns patterns that can be applied to new data.\n",
    "\n",
    "# Key Aspects:\n",
    "Rotation Range (5 degrees): Digit recognition can benefit from slight rotations as handwritten digits may not be perfectly aligned. A small range like 5 degrees keeps the transformation realistic without distorting the digits.\n",
    "\n",
    "Zoom Range (0.1): A 10% zoom allows the model to learn from digits that may be written smaller or larger, which adds robustness.\n",
    "\n",
    "Width/Height Shift (0.1): Small translations mimic slight variations in where digits might appear in images. This helps the model handle digits that are not perfectly centered."
   ]
  },
  {
   "cell_type": "code",
   "execution_count": 14,
   "id": "02c212f3-5abd-4623-acfe-3ef001895a24",
   "metadata": {},
   "outputs": [],
   "source": [
    "datagen = ImageDataGenerator(\n",
    "        rotation_range=5,         # Randomly rotate images by up to 5 degrees\n",
    "        zoom_range=0.1,            # Randomly zoom images by up to 10%\n",
    "        width_shift_range=0.1,     # Randomly shift images horizontally by up to 10% of width\n",
    "        height_shift_range=0.1,    # Randomly shift images vertically by up to 10% of height\n",
    ")\n",
    "\n",
    "datagen.fit(X_train)"
   ]
  },
  {
   "cell_type": "code",
   "execution_count": 15,
   "id": "90d0b5d1-0f01-4161-864e-2ef5a7c8b16d",
   "metadata": {},
   "outputs": [
    {
     "name": "stdout",
     "output_type": "stream",
     "text": [
      "Epoch 1/50\n",
      "1182/1182 [==============================] - 38s 31ms/step - loss: 1.9040 - accuracy: 0.3693 - val_loss: 0.4670 - val_accuracy: 0.9145\n",
      "Epoch 2/50\n",
      "1182/1182 [==============================] - 36s 31ms/step - loss: 0.8492 - accuracy: 0.7458 - val_loss: 0.1661 - val_accuracy: 0.9664\n",
      "Epoch 3/50\n",
      "1182/1182 [==============================] - 36s 31ms/step - loss: 0.5302 - accuracy: 0.8593 - val_loss: 0.1475 - val_accuracy: 0.9726\n",
      "Epoch 4/50\n",
      "1182/1182 [==============================] - 37s 31ms/step - loss: 0.3895 - accuracy: 0.9048 - val_loss: 0.1385 - val_accuracy: 0.9750\n",
      "Epoch 5/50\n",
      "1182/1182 [==============================] - 37s 31ms/step - loss: 0.3172 - accuracy: 0.9273 - val_loss: 0.1199 - val_accuracy: 0.9836\n",
      "Epoch 6/50\n",
      "1182/1182 [==============================] - 37s 31ms/step - loss: 0.2725 - accuracy: 0.9434 - val_loss: 0.1096 - val_accuracy: 0.9845\n",
      "Epoch 7/50\n",
      "1182/1182 [==============================] - 37s 31ms/step - loss: 0.2413 - accuracy: 0.9507 - val_loss: 0.1037 - val_accuracy: 0.9876\n",
      "Epoch 8/50\n",
      "1182/1182 [==============================] - 37s 31ms/step - loss: 0.2159 - accuracy: 0.9571 - val_loss: 0.0941 - val_accuracy: 0.9898\n",
      "Epoch 9/50\n",
      "1182/1182 [==============================] - 37s 31ms/step - loss: 0.2039 - accuracy: 0.9610 - val_loss: 0.0971 - val_accuracy: 0.9895\n",
      "Epoch 10/50\n",
      "1182/1182 [==============================] - 37s 31ms/step - loss: 0.1878 - accuracy: 0.9648 - val_loss: 0.0868 - val_accuracy: 0.9912\n",
      "Epoch 11/50\n",
      "1182/1182 [==============================] - 37s 31ms/step - loss: 0.1819 - accuracy: 0.9676 - val_loss: 0.0958 - val_accuracy: 0.9886\n",
      "Epoch 12/50\n",
      "1182/1182 [==============================] - 37s 31ms/step - loss: 0.1732 - accuracy: 0.9706 - val_loss: 0.0919 - val_accuracy: 0.9912\n",
      "Epoch 13/50\n",
      "1182/1182 [==============================] - 37s 32ms/step - loss: 0.1599 - accuracy: 0.9719 - val_loss: 0.0949 - val_accuracy: 0.9907\n",
      "Epoch 14/50\n",
      "1182/1182 [==============================] - 37s 32ms/step - loss: 0.1634 - accuracy: 0.9721 - val_loss: 0.0854 - val_accuracy: 0.9914\n",
      "Epoch 15/50\n",
      "1182/1182 [==============================] - 37s 32ms/step - loss: 0.1520 - accuracy: 0.9753 - val_loss: 0.0858 - val_accuracy: 0.9914\n",
      "Epoch 16/50\n",
      "1182/1182 [==============================] - 37s 31ms/step - loss: 0.1492 - accuracy: 0.9760 - val_loss: 0.0844 - val_accuracy: 0.9926\n",
      "Epoch 17/50\n",
      "1182/1182 [==============================] - 37s 31ms/step - loss: 0.1488 - accuracy: 0.9763 - val_loss: 0.0840 - val_accuracy: 0.9919\n",
      "Epoch 18/50\n",
      "1182/1182 [==============================] - 37s 31ms/step - loss: 0.1414 - accuracy: 0.9769 - val_loss: 0.0838 - val_accuracy: 0.9924\n",
      "Epoch 19/50\n",
      "1182/1182 [==============================] - 37s 31ms/step - loss: 0.1379 - accuracy: 0.9785 - val_loss: 0.0874 - val_accuracy: 0.9917\n",
      "Epoch 20/50\n",
      "1182/1182 [==============================] - 37s 31ms/step - loss: 0.1353 - accuracy: 0.9792 - val_loss: 0.0851 - val_accuracy: 0.9929\n",
      "Epoch 21/50\n",
      "1182/1182 [==============================] - 37s 31ms/step - loss: 0.1345 - accuracy: 0.9787 - val_loss: 0.0817 - val_accuracy: 0.9929\n",
      "Epoch 22/50\n",
      "1182/1182 [==============================] - 37s 32ms/step - loss: 0.1245 - accuracy: 0.9819 - val_loss: 0.0866 - val_accuracy: 0.9917\n",
      "Epoch 23/50\n",
      "1182/1182 [==============================] - 37s 31ms/step - loss: 0.1248 - accuracy: 0.9819 - val_loss: 0.0815 - val_accuracy: 0.9926\n",
      "Epoch 24/50\n",
      "1182/1182 [==============================] - 37s 31ms/step - loss: 0.1282 - accuracy: 0.9808 - val_loss: 0.0845 - val_accuracy: 0.9919\n",
      "Epoch 25/50\n",
      "1182/1182 [==============================] - 38s 32ms/step - loss: 0.1230 - accuracy: 0.9822 - val_loss: 0.0793 - val_accuracy: 0.9929\n",
      "Epoch 26/50\n",
      "1182/1182 [==============================] - 37s 31ms/step - loss: 0.1178 - accuracy: 0.9830 - val_loss: 0.0825 - val_accuracy: 0.9933\n",
      "Epoch 27/50\n",
      "1182/1182 [==============================] - 37s 31ms/step - loss: 0.1186 - accuracy: 0.9835 - val_loss: 0.0801 - val_accuracy: 0.9929\n",
      "Epoch 28/50\n",
      "1182/1182 [==============================] - 37s 31ms/step - loss: 0.1153 - accuracy: 0.9846 - val_loss: 0.0807 - val_accuracy: 0.9950\n",
      "Epoch 29/50\n",
      "1182/1182 [==============================] - 37s 31ms/step - loss: 0.1157 - accuracy: 0.9837 - val_loss: 0.0760 - val_accuracy: 0.9943\n",
      "Epoch 30/50\n",
      "1182/1182 [==============================] - 37s 32ms/step - loss: 0.1097 - accuracy: 0.9848 - val_loss: 0.0774 - val_accuracy: 0.9938\n",
      "Epoch 31/50\n",
      "1182/1182 [==============================] - 37s 32ms/step - loss: 0.1121 - accuracy: 0.9844 - val_loss: 0.0853 - val_accuracy: 0.9910\n",
      "Epoch 32/50\n",
      "1182/1182 [==============================] - 37s 31ms/step - loss: 0.1108 - accuracy: 0.9846 - val_loss: 0.0797 - val_accuracy: 0.9931\n",
      "Epoch 33/50\n",
      "1182/1182 [==============================] - 38s 32ms/step - loss: 0.1043 - accuracy: 0.9864 - val_loss: 0.0781 - val_accuracy: 0.9933\n",
      "Epoch 34/50\n",
      "1182/1182 [==============================] - 37s 31ms/step - loss: 0.1049 - accuracy: 0.9865 - val_loss: 0.0787 - val_accuracy: 0.9926\n",
      "Epoch 35/50\n",
      "1182/1182 [==============================] - 38s 32ms/step - loss: 0.1047 - accuracy: 0.9860 - val_loss: 0.0785 - val_accuracy: 0.9933\n",
      "Epoch 36/50\n",
      "1182/1182 [==============================] - 37s 32ms/step - loss: 0.1054 - accuracy: 0.9857 - val_loss: 0.0784 - val_accuracy: 0.9931\n",
      "Epoch 37/50\n",
      "1182/1182 [==============================] - 38s 32ms/step - loss: 0.1020 - accuracy: 0.9869 - val_loss: 0.0765 - val_accuracy: 0.9936\n",
      "Epoch 38/50\n",
      "1182/1182 [==============================] - 37s 32ms/step - loss: 0.1030 - accuracy: 0.9863 - val_loss: 0.0774 - val_accuracy: 0.9933\n",
      "Epoch 39/50\n",
      "1182/1182 [==============================] - 37s 32ms/step - loss: 0.1008 - accuracy: 0.9865 - val_loss: 0.0768 - val_accuracy: 0.9929\n",
      "Epoch 40/50\n",
      "1182/1182 [==============================] - 37s 31ms/step - loss: 0.0996 - accuracy: 0.9868 - val_loss: 0.0772 - val_accuracy: 0.9936\n",
      "Epoch 41/50\n",
      "1182/1182 [==============================] - 37s 31ms/step - loss: 0.0984 - accuracy: 0.9874 - val_loss: 0.0784 - val_accuracy: 0.9938\n",
      "Epoch 42/50\n",
      "1182/1182 [==============================] - 37s 32ms/step - loss: 0.0950 - accuracy: 0.9879 - val_loss: 0.0799 - val_accuracy: 0.9936\n",
      "Epoch 43/50\n",
      "1182/1182 [==============================] - 38s 32ms/step - loss: 0.0958 - accuracy: 0.9880 - val_loss: 0.0777 - val_accuracy: 0.9926\n",
      "Epoch 44/50\n",
      "1182/1182 [==============================] - 38s 32ms/step - loss: 0.0965 - accuracy: 0.9872 - val_loss: 0.0914 - val_accuracy: 0.9910\n",
      "Epoch 45/50\n",
      "1182/1182 [==============================] - 37s 32ms/step - loss: 0.0948 - accuracy: 0.9884 - val_loss: 0.0762 - val_accuracy: 0.9943\n",
      "Epoch 46/50\n",
      "1182/1182 [==============================] - 37s 31ms/step - loss: 0.0917 - accuracy: 0.9884 - val_loss: 0.0736 - val_accuracy: 0.9943\n",
      "Epoch 47/50\n",
      "1182/1182 [==============================] - 37s 31ms/step - loss: 0.0924 - accuracy: 0.9878 - val_loss: 0.0732 - val_accuracy: 0.9940\n",
      "Epoch 48/50\n",
      "1182/1182 [==============================] - 37s 31ms/step - loss: 0.0900 - accuracy: 0.9892 - val_loss: 0.0716 - val_accuracy: 0.9940\n",
      "Epoch 49/50\n",
      "1182/1182 [==============================] - 37s 31ms/step - loss: 0.0890 - accuracy: 0.9889 - val_loss: 0.0711 - val_accuracy: 0.9952\n",
      "Epoch 50/50\n",
      "1182/1182 [==============================] - 37s 31ms/step - loss: 0.0903 - accuracy: 0.9888 - val_loss: 0.0716 - val_accuracy: 0.9945\n"
     ]
    }
   ],
   "source": [
    "# Define a more complex model with adjusted architecture\n",
    "model = Sequential([\n",
    "    # First convolutional block\n",
    "    Conv2D(64, kernel_size=(3, 3), activation='relu', padding = 'Same', kernel_regularizer=L2(0.0001), input_shape=(28, 28, 1)),\n",
    "    BatchNormalization(),\n",
    "    MaxPooling2D(pool_size=(2, 2)),\n",
    "    Dropout(0.3),\n",
    "    \n",
    "    # Second convolutional block\n",
    "    Conv2D(128, kernel_size=(3, 3), activation='relu', padding = 'Same', kernel_regularizer=L2(0.0001)),\n",
    "    BatchNormalization(),\n",
    "    MaxPooling2D(pool_size=(2, 2)),\n",
    "    Dropout(0.3),\n",
    "    \n",
    "    # Third convolutional block\n",
    "    Conv2D(256, kernel_size=(3, 3), activation='relu', padding = 'Same', kernel_regularizer=L2(0.0001)),\n",
    "    BatchNormalization(),\n",
    "    MaxPooling2D(pool_size=(2, 2)),\n",
    "    Dropout(0.4),\n",
    "    \n",
    "    # Flatten and fully connected layers\n",
    "    Flatten(),\n",
    "    Dense(128, activation='relu', kernel_regularizer=L2(0.0001)),\n",
    "    Dropout(0.4),\n",
    "    Dense(64, activation='relu', kernel_regularizer=L2(0.0001)),\n",
    "    Dropout(0.3),\n",
    "    \n",
    "    # Output layer for classification\n",
    "    Dense(10, activation='softmax')\n",
    "])\n",
    "\n",
    "# Compile the model\n",
    "model.compile(\n",
    "    optimizer=Adam(learning_rate=1e-4),\n",
    "    loss=SparseCategoricalCrossentropy(),\n",
    "    metrics=['accuracy']\n",
    ")\n",
    "\n",
    "# Train the model\n",
    "history = model.fit(datagen.flow(X_train, y_train, batch_size=32),\n",
    "                    epochs=50,   \n",
    "                    validation_data=(X_val, y_val))"
   ]
  },
  {
   "cell_type": "code",
   "execution_count": 16,
   "id": "4d01dbb8-4996-4f15-a480-47e5c37854bd",
   "metadata": {},
   "outputs": [
    {
     "data": {
      "image/png": "[encoded data removed]",
      "text/plain": [
       "<Figure size 640x480 with 1 Axes>"
      ]
     },
     "metadata": {},
     "output_type": "display_data"
    },
    {
     "data": {
      "image/png": "[encoded data removed]",
      "text/plain": [
       "<Figure size 640x480 with 1 Axes>"
      ]
     },
     "metadata": {},
     "output_type": "display_data"
    }
   ],
   "source": [
    "# Plot accuracy\n",
    "plt.plot(history.history['accuracy'], label='train accuracy')\n",
    "plt.plot(history.history['val_accuracy'], label='validation accuracy')\n",
    "plt.legend()\n",
    "plt.show()\n",
    "\n",
    "# Plot loss\n",
    "plt.plot(history.history['loss'], label='train loss')\n",
    "plt.plot(history.history['val_loss'], label='validation loss')\n",
    "plt.legend()\n",
    "plt.show()"
   ]
  },
  {
   "cell_type": "code",
   "execution_count": 17,
   "id": "754a8acb-75e9-419d-8eaa-9ef5a0963f35",
   "metadata": {},
   "outputs": [
    {
     "name": "stdout",
     "output_type": "stream",
     "text": [
      "132/132 [==============================] - 1s 9ms/step\n"
     ]
    },
    {
     "data": {
      "image/png": "[encoded data removed]",
      "text/plain": [
       "<Figure size 800x600 with 2 Axes>"
      ]
     },
     "metadata": {},
     "output_type": "display_data"
    }
   ],
   "source": [
    "# 1. Make predictions on the validation or test set\n",
    "y_pred_probs = model.predict(X_val)  # Predict probabilities\n",
    "y_pred = np.argmax(y_pred_probs, axis=1)  # Convert probabilities to class labels\n",
    "\n",
    "# 2. Generate the confusion matrix\n",
    "conf_matrix = confusion_matrix(y_val, y_pred)\n",
    "\n",
    "# 3. Define class names (digits 0 to 9)\n",
    "class_names = [i for i in range(10)]\n",
    "\n",
    "# 4. Plot the confusion matrix\n",
    "plt.figure(figsize=(8, 6))\n",
    "sns.heatmap(conf_matrix, annot=True, fmt='d', cmap='Blues', xticklabels=class_names, yticklabels=class_names)\n",
    "plt.xlabel('Predicted Label')\n",
    "plt.ylabel('True Label')\n",
    "plt.title('Confusion Matrix')\n",
    "plt.show()"
   ]
  },
  {
   "cell_type": "markdown",
   "id": "a5498fa7-6363-4e39-8dc6-d6388dcd305f",
   "metadata": {},
   "source": [
    "Predictions"
   ]
  },
  {
   "cell_type": "code",
   "execution_count": 18,
   "id": "f8ef5f35-817f-416a-b9dd-3323e075d15a",
   "metadata": {},
   "outputs": [
    {
     "name": "stdout",
     "output_type": "stream",
     "text": [
      "219/219 [==============================] - 6s 28ms/step\n"
     ]
    }
   ],
   "source": [
    "predictions = model.predict(X_test, batch_size=128)"
   ]
  },
  {
   "cell_type": "code",
   "execution_count": 19,
   "id": "4f94cc45-ee19-46c5-ad4d-ee1f3f45a7d8",
   "metadata": {},
   "outputs": [],
   "source": [
    "predicted_classes = np.argmax(predictions, axis=1)"
   ]
  },
  {
   "cell_type": "code",
   "execution_count": 20,
   "id": "664de1ae-8f9b-4ff6-8af2-0b38b0fc46b3",
   "metadata": {},
   "outputs": [],
   "source": [
    "submission_df = pd.DataFrame({\n",
    "    'ImageId': range(1, len(predicted_classes) + 1),\n",
    "    'Label': predicted_classes\n",
    "})\n",
    "submission_df.to_csv('submission.csv', index=False)"
   ]
  },
  {
   "cell_type": "code",
   "execution_count": null,
   "id": "e9fec1ce-54f0-4802-beb8-fbeea2ace0de",
   "metadata": {},
   "outputs": [],
   "source": []
  },
  {
   "cell_type": "code",
   "execution_count": null,
   "id": "5c4f15db-2219-485e-8a5d-d5a15d0f85a6",
   "metadata": {},
   "outputs": [],
   "source": []
  },
  {
   "cell_type": "code",
   "execution_count": null,
   "id": "b0476aa7-65bf-4c2c-b8e7-3fcee39a1143",
   "metadata": {},
   "outputs": [],
   "source": []
  },
  {
   "cell_type": "code",
   "execution_count": null,
   "id": "34ef6c0f-aad6-47b8-8178-30282c0809cc",
   "metadata": {},
   "outputs": [],
   "source": []
  },
  {
   "cell_type": "code",
   "execution_count": null,
   "id": "73b2081c-e3ae-47ea-94ea-207c63bff295",
   "metadata": {},
   "outputs": [],
   "source": []
  },
  {
   "cell_type": "code",
   "execution_count": null,
   "id": "2b142ad0-4cbd-4ba0-9fe6-3dff4e9a24a2",
   "metadata": {},
   "outputs": [],
   "source": []
  },
  {
   "cell_type": "code",
   "execution_count": null,
   "id": "63f88236-c16f-4419-ab25-588539a9722b",
   "metadata": {},
   "outputs": [],
   "source": []
  },
  {
   "cell_type": "code",
   "execution_count": null,
   "id": "d3ca30ef-c955-4b55-9383-d13d93c62a18",
   "metadata": {},
   "outputs": [],
   "source": []
  }
 ],
 "metadata": {
  "kernelspec": {
   "display_name": "Python 3 (ipykernel)",
   "language": "python",
   "name": "python3"
  },
  "language_info": {
   "codemirror_mode": {
    "name": "ipython",
    "version": 3
   },
   "file_extension": ".py",
   "mimetype": "text/x-python",
   "name": "python",
   "nbconvert_exporter": "python",
   "pygments_lexer": "ipython3",
   "version": "3.11.7"
  }
 },
 "nbformat": 4,
 "nbformat_minor": 5
}
