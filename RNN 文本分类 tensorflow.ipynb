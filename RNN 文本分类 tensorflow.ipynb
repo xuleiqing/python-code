{
 "cells": [
  {
   "cell_type": "markdown",
   "id": "24eabf94-124c-49ab-b7c2-d0d52b4270df",
   "metadata": {},
   "source": [
    "https://www.kaggle.com/code/tarekhikal/text-generation-with-tensorflow-nlp-rnn/notebook"
   ]
  },
  {
   "cell_type": "code",
   "execution_count": 1,
   "id": "31a3509b-9835-44d6-ad6e-e6444caf0048",
   "metadata": {},
   "outputs": [],
   "source": [
    "import tensorflow as tf\n",
    "import numpy as np\n",
    "import pandas as pd\n",
    "import matplotlib.pyplot as plt\n",
    "\n",
    "from tensorflow.keras.layers import Embedding, LSTM, Dense, Dropout, Bidirectional, GlobalAveragePooling1D\n",
    "from tensorflow.keras.models import Sequential\n",
    "from tensorflow.keras.preprocessing.sequence import pad_sequences\n",
    "from tensorflow.keras.preprocessing.text import Tokenizer\n",
    "from tensorflow.keras.utils import to_categorical"
   ]
  },
  {
   "cell_type": "code",
   "execution_count": 2,
   "id": "415e0de8-c154-4fce-bb6c-121508e759ef",
   "metadata": {},
   "outputs": [
    {
     "name": "stdout",
     "output_type": "stream",
     "text": [
      "INFO:tensorflow:Using MirroredStrategy with devices ('/job:localhost/replica:0/task:0/device:CPU:0',)\n"
     ]
    }
   ],
   "source": [
    "strategy = tf.distribute.MirroredStrategy()\n",
    "# tpu = tf.distribute.cluster_resolver.TPUClusterResolver.connect()\n",
    "# strategy = tf.distribute.TPUStrategy(tpu)"
   ]
  },
  {
   "cell_type": "markdown",
   "id": "0552faf7-d82a-4a48-8575-bdfc99f3cecd",
   "metadata": {},
   "source": [
    "Dataset Preparation and Preprocessing"
   ]
  },
  {
   "cell_type": "code",
   "execution_count": 3,
   "id": "069667ce-1a60-4d37-9498-62f94d1217ce",
   "metadata": {},
   "outputs": [],
   "source": [
    "import os\n",
    "os.chdir('E:\\Python code\\BBC文章全文和类别')\n",
    "data = pd.read_csv('Shakespeare_data.csv')"
   ]
  },
  {
   "cell_type": "code",
   "execution_count": 4,
   "id": "af198e95-b935-4486-9bda-2119bd807d62",
   "metadata": {},
   "outputs": [
    {
     "data": {
      "text/plain": [
       "(111396, 6)"
      ]
     },
     "execution_count": 4,
     "metadata": {},
     "output_type": "execute_result"
    }
   ],
   "source": [
    "data.shape"
   ]
  },
  {
   "cell_type": "code",
   "execution_count": 5,
   "id": "1dc560b9-ebfa-48d5-83e2-ba4a259c72e2",
   "metadata": {},
   "outputs": [],
   "source": [
    "df = data.head(10000).copy()"
   ]
  },
  {
   "cell_type": "code",
   "execution_count": 6,
   "id": "0f50de1d-b7bc-4585-aff8-056d7f43b15d",
   "metadata": {},
   "outputs": [
    {
     "data": {
      "text/html": [
       "<div>\n",
       "<style scoped>\n",
       "    .dataframe tbody tr th:only-of-type {\n",
       "        vertical-align: middle;\n",
       "    }\n",
       "\n",
       "    .dataframe tbody tr th {\n",
       "        vertical-align: top;\n",
       "    }\n",
       "\n",
       "    .dataframe thead th {\n",
       "        text-align: right;\n",
       "    }\n",
       "</style>\n",
       "<table border=\"1\" class=\"dataframe\">\n",
       "  <thead>\n",
       "    <tr style=\"text-align: right;\">\n",
       "      <th></th>\n",
       "      <th>Dataline</th>\n",
       "      <th>Play</th>\n",
       "      <th>PlayerLinenumber</th>\n",
       "      <th>ActSceneLine</th>\n",
       "      <th>Player</th>\n",
       "      <th>PlayerLine</th>\n",
       "    </tr>\n",
       "  </thead>\n",
       "  <tbody>\n",
       "    <tr>\n",
       "      <th>0</th>\n",
       "      <td>1</td>\n",
       "      <td>Henry IV</td>\n",
       "      <td>NaN</td>\n",
       "      <td>NaN</td>\n",
       "      <td>NaN</td>\n",
       "      <td>ACT I</td>\n",
       "    </tr>\n",
       "    <tr>\n",
       "      <th>1</th>\n",
       "      <td>2</td>\n",
       "      <td>Henry IV</td>\n",
       "      <td>NaN</td>\n",
       "      <td>NaN</td>\n",
       "      <td>NaN</td>\n",
       "      <td>SCENE I. London. The palace.</td>\n",
       "    </tr>\n",
       "    <tr>\n",
       "      <th>2</th>\n",
       "      <td>3</td>\n",
       "      <td>Henry IV</td>\n",
       "      <td>NaN</td>\n",
       "      <td>NaN</td>\n",
       "      <td>NaN</td>\n",
       "      <td>Enter KING HENRY, LORD JOHN OF LANCASTER, the ...</td>\n",
       "    </tr>\n",
       "    <tr>\n",
       "      <th>3</th>\n",
       "      <td>4</td>\n",
       "      <td>Henry IV</td>\n",
       "      <td>1.0</td>\n",
       "      <td>1.1.1</td>\n",
       "      <td>KING HENRY IV</td>\n",
       "      <td>So shaken as we are, so wan with care,</td>\n",
       "    </tr>\n",
       "    <tr>\n",
       "      <th>4</th>\n",
       "      <td>5</td>\n",
       "      <td>Henry IV</td>\n",
       "      <td>1.0</td>\n",
       "      <td>1.1.2</td>\n",
       "      <td>KING HENRY IV</td>\n",
       "      <td>Find we a time for frighted peace to pant,</td>\n",
       "    </tr>\n",
       "  </tbody>\n",
       "</table>\n",
       "</div>"
      ],
      "text/plain": [
       "   Dataline      Play  PlayerLinenumber ActSceneLine         Player  \\\n",
       "0         1  Henry IV               NaN          NaN            NaN   \n",
       "1         2  Henry IV               NaN          NaN            NaN   \n",
       "2         3  Henry IV               NaN          NaN            NaN   \n",
       "3         4  Henry IV               1.0        1.1.1  KING HENRY IV   \n",
       "4         5  Henry IV               1.0        1.1.2  KING HENRY IV   \n",
       "\n",
       "                                          PlayerLine  \n",
       "0                                              ACT I  \n",
       "1                       SCENE I. London. The palace.  \n",
       "2  Enter KING HENRY, LORD JOHN OF LANCASTER, the ...  \n",
       "3             So shaken as we are, so wan with care,  \n",
       "4         Find we a time for frighted peace to pant,  "
      ]
     },
     "execution_count": 6,
     "metadata": {},
     "output_type": "execute_result"
    }
   ],
   "source": [
    "df.head()"
   ]
  },
  {
   "cell_type": "markdown",
   "id": "9b4d60a8-8190-45a2-b527-3b876038c5db",
   "metadata": {},
   "source": [
    "# Removing Irrelevant Columns¶\n",
    "As you can see, the current dataset contains information that is not useful for a language model. Our primary focus here is training our model on conversations/text to generate new text based on it, and the 'Playerline' column provides the relevant data. Therefore, we'll create our base dataset based on that."
   ]
  },
  {
   "cell_type": "code",
   "execution_count": 7,
   "id": "a6f6b051-27bd-44c6-8abe-b8e3cfe829a5",
   "metadata": {},
   "outputs": [],
   "source": [
    "dataset = df['PlayerLine']"
   ]
  },
  {
   "cell_type": "code",
   "execution_count": 8,
   "id": "8c88d766-2455-45f7-b518-ab66184a0e8c",
   "metadata": {},
   "outputs": [],
   "source": [
    "corpus = []\n",
    "with strategy.scope():  # 在strategy定义的上下文中执行以下代码\n",
    "    for line in dataset:  # 遍历数据集中的每一行\n",
    "        lowercase_line = line.lower()  # 将当前行转换为小写\n",
    "        corpus.append(lowercase_line)  # 将小写行添加到corpus列表中"
   ]
  },
  {
   "cell_type": "code",
   "execution_count": 9,
   "id": "1f119709-62ae-4e0f-8189-45f087bd6989",
   "metadata": {},
   "outputs": [
    {
     "data": {
      "text/plain": [
       "['act i',\n",
       " 'scene i. london. the palace.',\n",
       " 'enter king henry, lord john of lancaster, the earl of westmoreland, sir walter blunt, and others',\n",
       " 'so shaken as we are, so wan with care,',\n",
       " 'find we a time for frighted peace to pant,',\n",
       " 'and breathe short-winded accents of new broils',\n",
       " 'to be commenced in strands afar remote.',\n",
       " 'no more the thirsty entrance of this soil',\n",
       " \"shall daub her lips with her own children's blood,\",\n",
       " 'nor more shall trenching war channel her fields,']"
      ]
     },
     "execution_count": 9,
     "metadata": {},
     "output_type": "execute_result"
    }
   ],
   "source": [
    "corpus[:10]"
   ]
  },
  {
   "cell_type": "markdown",
   "id": "56185188-2b68-4e61-9e6f-18da048ca5ea",
   "metadata": {},
   "source": [
    "# Initialize Tokenizer"
   ]
  },
  {
   "cell_type": "code",
   "execution_count": 10,
   "id": "8d0527ae-553e-4d08-9e8d-b3b741aaf7b7",
   "metadata": {},
   "outputs": [],
   "source": [
    "tokenizer = Tokenizer()\n",
    "tokenizer.fit_on_texts(corpus)"
   ]
  },
  {
   "cell_type": "code",
   "execution_count": 11,
   "id": "478223d7-a37f-4cf9-8bf4-db695f149b27",
   "metadata": {},
   "outputs": [],
   "source": [
    "word_to_token = tokenizer.word_index"
   ]
  },
  {
   "cell_type": "code",
   "execution_count": 12,
   "id": "c52b298f-97f6-4f2d-a51f-2e50fa8a4585",
   "metadata": {},
   "outputs": [
    {
     "name": "stdout",
     "output_type": "stream",
     "text": [
      "'and': 1,\n",
      "'the': 2,\n",
      "'of': 3,\n",
      "'i': 4,\n",
      "'to': 5,\n",
      "'a': 6,\n",
      "'my': 7,\n",
      "'in': 8,\n",
      "'that': 9,\n",
      "'with': 10,\n"
     ]
    }
   ],
   "source": [
    "def key_pair(num):    \n",
    "    count=0\n",
    "    for key, value in word_to_token.items():\n",
    "        if count>=num: break\n",
    "        print(f''''{key:}': {value},''')\n",
    "        count +=1\n",
    "key_pair(10)"
   ]
  },
  {
   "cell_type": "code",
   "execution_count": 13,
   "id": "feb67200-bb55-4914-b0b5-be6ce134c2c0",
   "metadata": {},
   "outputs": [
    {
     "name": "stdout",
     "output_type": "stream",
     "text": [
      "7857\n"
     ]
    }
   ],
   "source": [
    "total_words = len(word_to_token)+1\n",
    "print(total_words)"
   ]
  },
  {
   "cell_type": "markdown",
   "id": "1a6a75a3-71bb-40fc-addd-3d2c6f04b210",
   "metadata": {},
   "source": [
    "Sequence-to-N-gram"
   ]
  },
  {
   "cell_type": "code",
   "execution_count": 14,
   "id": "6cb2d06d-4af9-4d68-b8b9-79b07aae1cb1",
   "metadata": {},
   "outputs": [],
   "source": [
    "input_sequences = []\n",
    "with strategy.scope():\n",
    "    for line in corpus:\n",
    "        token_list = tokenizer.texts_to_sequences([line])[0]\n",
    "        for i in range(1, len(token_list)):\n",
    "            n_gram_sequence = token_list[:i+1]\n",
    "            input_sequences.append(n_gram_sequence)"
   ]
  },
  {
   "cell_type": "code",
   "execution_count": 15,
   "id": "1ca40027-d28e-485d-b9ab-807f9280958a",
   "metadata": {},
   "outputs": [
    {
     "data": {
      "text/plain": [
       "66423"
      ]
     },
     "execution_count": 15,
     "metadata": {},
     "output_type": "execute_result"
    }
   ],
   "source": [
    "len(input_sequences)"
   ]
  },
  {
   "cell_type": "code",
   "execution_count": 16,
   "id": "b6d8cd70-4ce1-412a-af1b-022fb502688d",
   "metadata": {},
   "outputs": [
    {
     "data": {
      "text/plain": [
       "[[454, 4], [139, 4], [139, 4, 234], [139, 4, 234, 2], [139, 4, 234, 2, 589]]"
      ]
     },
     "execution_count": 16,
     "metadata": {},
     "output_type": "execute_result"
    }
   ],
   "source": [
    "input_sequences[:5]"
   ]
  },
  {
   "cell_type": "code",
   "execution_count": 17,
   "id": "bbdc2fba-276d-4cb2-a683-651f7d6df4d2",
   "metadata": {},
   "outputs": [],
   "source": [
    "before = input_sequences[1]"
   ]
  },
  {
   "cell_type": "code",
   "execution_count": 18,
   "id": "f306f8a4-709d-4f19-b939-6d46caf28990",
   "metadata": {},
   "outputs": [
    {
     "name": "stdout",
     "output_type": "stream",
     "text": [
      "56\n"
     ]
    }
   ],
   "source": [
    "max_seq_len = max(len(x) for x in input_sequences)\n",
    "print(max_seq_len)"
   ]
  },
  {
   "cell_type": "markdown",
   "id": "e0f72179-58e6-4a1c-9b29-bbb86eed20ae",
   "metadata": {},
   "source": [
    "# Padding¶\n",
    "Now, the issue with the n-grams we've created is that not all entries have the same length. When dealing with matrix manipulation, consistency in size and shape is crucial. To address this, we'll add padding with 'zero' values to each sequence to make them the same size. This is where our maximum sequence length comes in handy.\n",
    "\n",
    "You might wonder why we're adding zeros before the original sequence. I'll answer that in a few cells."
   ]
  },
  {
   "cell_type": "code",
   "execution_count": 19,
   "id": "c6b4769f-0139-4690-8b26-184e79741219",
   "metadata": {},
   "outputs": [],
   "source": [
    "input_sequences = np.array(pad_sequences(input_sequences, maxlen=max_seq_len, padding = 'pre'))"
   ]
  },
  {
   "cell_type": "code",
   "execution_count": 20,
   "id": "f37c1b0f-3f60-407d-a1fc-aad5e07b41b1",
   "metadata": {},
   "outputs": [],
   "source": [
    "after = input_sequences[1]"
   ]
  },
  {
   "cell_type": "code",
   "execution_count": 21,
   "id": "dd67aadd-a570-4532-bc62-fe7cc03c30d8",
   "metadata": {},
   "outputs": [
    {
     "name": "stdout",
     "output_type": "stream",
     "text": [
      "Before: [139, 4]\n",
      "After: [  0   0   0   0   0   0   0   0   0   0   0   0   0   0   0   0   0   0\n",
      "   0   0   0   0   0   0   0   0   0   0   0   0   0   0   0   0   0   0\n",
      "   0   0   0   0   0   0   0   0   0   0   0   0   0   0   0   0   0   0\n",
      " 139   4]\n"
     ]
    }
   ],
   "source": [
    "print(f'Before: {before}')\n",
    "print(f'After: {after}')"
   ]
  },
  {
   "cell_type": "markdown",
   "id": "57194813-6031-481b-884c-84db895bd7fe",
   "metadata": {},
   "source": [
    "# Creating Feature-Label Pairs¶\n",
    "Now that we've prepared our corpus, we can focus on creating the actual dataset, consisting of feature-label pairs. We'll need this dataset to train our model to generate text.\n",
    "\n",
    "Remember the question about why we're adding padding in front of the original sequence? It's because we're going to construct the training set by making the last value of a sequence the label and the rest of the sequence the feature. We're training the model to predict which word typically follows certain structures. Once the training is complete, the model should be able to generate text."
   ]
  },
  {
   "cell_type": "code",
   "execution_count": 22,
   "id": "24e9c982-a1d0-4c8f-95ce-28c7776a74d2",
   "metadata": {},
   "outputs": [],
   "source": [
    "features, labels = input_sequences[:, :-1], input_sequences[:, -1]"
   ]
  },
  {
   "cell_type": "code",
   "execution_count": 23,
   "id": "d50db97c-7845-4512-be86-0650f82b5cf8",
   "metadata": {},
   "outputs": [],
   "source": [
    "labels = tf.keras.utils.to_categorical(labels, num_classes=total_words)"
   ]
  },
  {
   "cell_type": "markdown",
   "id": "9de44b21-733a-4764-8f8d-8239fd8182df",
   "metadata": {},
   "source": [
    "# Handling Out Of Memory Problem¶\n",
    "Unfortunately, after the n-gram conversion, the dataset becomes extremely large, making it challenging to run on Kaggle's basic resources. To mitigate this, we'll select a tiny portion of the data for our training, approximately 0.05% of the total sequences."
   ]
  },
  {
   "cell_type": "code",
   "execution_count": 26,
   "id": "43d3aa98-27e6-4c6e-b399-bd29098f86e9",
   "metadata": {},
   "outputs": [],
   "source": [
    "with strategy.scope():\n",
    "    n = 0.05 # We are only taking a chunk of this huge dataset to fit it on the RAM\n",
    "    slice_size = int(len(features)*n)\n",
    "    np.save('kaggle/features', features[:slice_size, :])\n",
    "    np.save('kaggle/labels', labels[:slice_size, :])"
   ]
  },
  {
   "cell_type": "code",
   "execution_count": 28,
   "id": "999efb49-5aa1-4fca-a791-6092f7e875b9",
   "metadata": {},
   "outputs": [],
   "source": [
    "with strategy.scope():\n",
    "    features = np.load('kaggle/features.npy')\n",
    "    labels = np.load('kaggle/labels.npy')"
   ]
  },
  {
   "cell_type": "markdown",
   "id": "59e165e5-fb79-47cf-8cd1-fbed6901dbea",
   "metadata": {},
   "source": [
    "# Model Design\n",
    "This is the model that will learn how to generate text. It takes sequences of words, embeds them into vectors, processes them with Bidirectional LSTMs, and predicts the next word using a softmax output layer."
   ]
  },
  {
   "cell_type": "code",
   "execution_count": 29,
   "id": "1d9e1a62-c0fc-49b4-bd69-a95cd4108479",
   "metadata": {},
   "outputs": [],
   "source": [
    "#Create the model!\n",
    "def generator_model():\n",
    "    tf.random.set_seed(42)\n",
    "    model = Sequential()\n",
    "    model.add(Embedding(total_words, 100, input_length = max_seq_len-1)),\n",
    "    model.add(Bidirectional(LSTM(64, return_sequences = True))),\n",
    "    model.add(Bidirectional(LSTM(32))),\n",
    "    model.add(Dense(64, activation = 'relu')),\n",
    "    model.add(Dense(total_words, activation = 'softmax'))\n",
    "    return model"
   ]
  },
  {
   "cell_type": "markdown",
   "id": "dd645cb8-d1e0-494d-9f9d-3651637ca218",
   "metadata": {},
   "source": [
    "Compliling the Model"
   ]
  },
  {
   "cell_type": "code",
   "execution_count": 30,
   "id": "8de00f55-4cb5-4ed4-8219-03e0842320fe",
   "metadata": {},
   "outputs": [
    {
     "name": "stderr",
     "output_type": "stream",
     "text": [
      "D:\\anaconda\\Lib\\site-packages\\keras\\src\\layers\\core\\embedding.py:90: UserWarning: Argument `input_length` is deprecated. Just remove it.\n",
      "  warnings.warn(\n"
     ]
    }
   ],
   "source": [
    "with strategy.scope():\n",
    "    model = generator_model()\n",
    "    model.compile(loss = 'categorical_crossentropy', \n",
    "                 optimizer = tf.keras.optimizers.Adam(learning_rate = 0.002),\n",
    "                 metrics = ['accuracy'])"
   ]
  },
  {
   "cell_type": "code",
   "execution_count": 31,
   "id": "0fba635b-462a-4f74-825f-3246e0d35bf2",
   "metadata": {},
   "outputs": [
    {
     "data": {
      "text/html": [
       "<pre style=\"white-space:pre;overflow-x:auto;line-height:normal;font-family:Menlo,'DejaVu Sans Mono',consolas,'Courier New',monospace\"><span style=\"font-weight: bold\">Model: \"sequential\"</span>\n",
       "</pre>\n"
      ],
      "text/plain": [
       "\u001b[1mModel: \"sequential\"\u001b[0m\n"
      ]
     },
     "metadata": {},
     "output_type": "display_data"
    },
    {
     "data": {
      "text/html": [
       "<pre style=\"white-space:pre;overflow-x:auto;line-height:normal;font-family:Menlo,'DejaVu Sans Mono',consolas,'Courier New',monospace\">┏━━━━━━━━━━━━━━━━━━━━━━━━━━━━━━━━━━━━━━┳━━━━━━━━━━━━━━━━━━━━━━━━━━━━━┳━━━━━━━━━━━━━━━━━┓\n",
       "┃<span style=\"font-weight: bold\"> Layer (type)                         </span>┃<span style=\"font-weight: bold\"> Output Shape                </span>┃<span style=\"font-weight: bold\">         Param # </span>┃\n",
       "┡━━━━━━━━━━━━━━━━━━━━━━━━━━━━━━━━━━━━━━╇━━━━━━━━━━━━━━━━━━━━━━━━━━━━━╇━━━━━━━━━━━━━━━━━┩\n",
       "│ embedding (<span style=\"color: #0087ff; text-decoration-color: #0087ff\">Embedding</span>)                │ ?                           │     <span style=\"color: #00af00; text-decoration-color: #00af00\">0</span> (unbuilt) │\n",
       "├──────────────────────────────────────┼─────────────────────────────┼─────────────────┤\n",
       "│ bidirectional (<span style=\"color: #0087ff; text-decoration-color: #0087ff\">Bidirectional</span>)        │ ?                           │     <span style=\"color: #00af00; text-decoration-color: #00af00\">0</span> (unbuilt) │\n",
       "├──────────────────────────────────────┼─────────────────────────────┼─────────────────┤\n",
       "│ bidirectional_1 (<span style=\"color: #0087ff; text-decoration-color: #0087ff\">Bidirectional</span>)      │ ?                           │     <span style=\"color: #00af00; text-decoration-color: #00af00\">0</span> (unbuilt) │\n",
       "├──────────────────────────────────────┼─────────────────────────────┼─────────────────┤\n",
       "│ dense (<span style=\"color: #0087ff; text-decoration-color: #0087ff\">Dense</span>)                        │ ?                           │     <span style=\"color: #00af00; text-decoration-color: #00af00\">0</span> (unbuilt) │\n",
       "├──────────────────────────────────────┼─────────────────────────────┼─────────────────┤\n",
       "│ dense_1 (<span style=\"color: #0087ff; text-decoration-color: #0087ff\">Dense</span>)                      │ ?                           │     <span style=\"color: #00af00; text-decoration-color: #00af00\">0</span> (unbuilt) │\n",
       "└──────────────────────────────────────┴─────────────────────────────┴─────────────────┘\n",
       "</pre>\n"
      ],
      "text/plain": [
       "┏━━━━━━━━━━━━━━━━━━━━━━━━━━━━━━━━━━━━━━┳━━━━━━━━━━━━━━━━━━━━━━━━━━━━━┳━━━━━━━━━━━━━━━━━┓\n",
       "┃\u001b[1m \u001b[0m\u001b[1mLayer (type)                        \u001b[0m\u001b[1m \u001b[0m┃\u001b[1m \u001b[0m\u001b[1mOutput Shape               \u001b[0m\u001b[1m \u001b[0m┃\u001b[1m \u001b[0m\u001b[1m        Param #\u001b[0m\u001b[1m \u001b[0m┃\n",
       "┡━━━━━━━━━━━━━━━━━━━━━━━━━━━━━━━━━━━━━━╇━━━━━━━━━━━━━━━━━━━━━━━━━━━━━╇━━━━━━━━━━━━━━━━━┩\n",
       "│ embedding (\u001b[38;5;33mEmbedding\u001b[0m)                │ ?                           │     \u001b[38;5;34m0\u001b[0m (unbuilt) │\n",
       "├──────────────────────────────────────┼─────────────────────────────┼─────────────────┤\n",
       "│ bidirectional (\u001b[38;5;33mBidirectional\u001b[0m)        │ ?                           │     \u001b[38;5;34m0\u001b[0m (unbuilt) │\n",
       "├──────────────────────────────────────┼─────────────────────────────┼─────────────────┤\n",
       "│ bidirectional_1 (\u001b[38;5;33mBidirectional\u001b[0m)      │ ?                           │     \u001b[38;5;34m0\u001b[0m (unbuilt) │\n",
       "├──────────────────────────────────────┼─────────────────────────────┼─────────────────┤\n",
       "│ dense (\u001b[38;5;33mDense\u001b[0m)                        │ ?                           │     \u001b[38;5;34m0\u001b[0m (unbuilt) │\n",
       "├──────────────────────────────────────┼─────────────────────────────┼─────────────────┤\n",
       "│ dense_1 (\u001b[38;5;33mDense\u001b[0m)                      │ ?                           │     \u001b[38;5;34m0\u001b[0m (unbuilt) │\n",
       "└──────────────────────────────────────┴─────────────────────────────┴─────────────────┘\n"
      ]
     },
     "metadata": {},
     "output_type": "display_data"
    },
    {
     "data": {
      "text/html": [
       "<pre style=\"white-space:pre;overflow-x:auto;line-height:normal;font-family:Menlo,'DejaVu Sans Mono',consolas,'Courier New',monospace\"><span style=\"font-weight: bold\"> Total params: </span><span style=\"color: #00af00; text-decoration-color: #00af00\">0</span> (0.00 B)\n",
       "</pre>\n"
      ],
      "text/plain": [
       "\u001b[1m Total params: \u001b[0m\u001b[38;5;34m0\u001b[0m (0.00 B)\n"
      ]
     },
     "metadata": {},
     "output_type": "display_data"
    },
    {
     "data": {
      "text/html": [
       "<pre style=\"white-space:pre;overflow-x:auto;line-height:normal;font-family:Menlo,'DejaVu Sans Mono',consolas,'Courier New',monospace\"><span style=\"font-weight: bold\"> Trainable params: </span><span style=\"color: #00af00; text-decoration-color: #00af00\">0</span> (0.00 B)\n",
       "</pre>\n"
      ],
      "text/plain": [
       "\u001b[1m Trainable params: \u001b[0m\u001b[38;5;34m0\u001b[0m (0.00 B)\n"
      ]
     },
     "metadata": {},
     "output_type": "display_data"
    },
    {
     "data": {
      "text/html": [
       "<pre style=\"white-space:pre;overflow-x:auto;line-height:normal;font-family:Menlo,'DejaVu Sans Mono',consolas,'Courier New',monospace\"><span style=\"font-weight: bold\"> Non-trainable params: </span><span style=\"color: #00af00; text-decoration-color: #00af00\">0</span> (0.00 B)\n",
       "</pre>\n"
      ],
      "text/plain": [
       "\u001b[1m Non-trainable params: \u001b[0m\u001b[38;5;34m0\u001b[0m (0.00 B)\n"
      ]
     },
     "metadata": {},
     "output_type": "display_data"
    }
   ],
   "source": [
    "model.summary()"
   ]
  },
  {
   "cell_type": "code",
   "execution_count": 32,
   "id": "b1d2becd-ebaa-4a66-968a-0e3d2ec42503",
   "metadata": {},
   "outputs": [
    {
     "name": "stdout",
     "output_type": "stream",
     "text": [
      "WARNING:tensorflow:From D:\\anaconda\\Lib\\site-packages\\keras\\src\\backend\\tensorflow\\core.py:204: The name tf.placeholder is deprecated. Please use tf.compat.v1.placeholder instead.\n",
      "\n",
      "Epoch 1/10\n",
      "\u001b[1m104/104\u001b[0m \u001b[32m━━━━━━━━━━━━━━━━━━━━\u001b[0m\u001b[37m\u001b[0m \u001b[1m8s\u001b[0m 39ms/step - accuracy: 0.0307 - loss: 7.9723\n",
      "Epoch 2/10\n",
      "\u001b[1m104/104\u001b[0m \u001b[32m━━━━━━━━━━━━━━━━━━━━\u001b[0m\u001b[37m\u001b[0m \u001b[1m4s\u001b[0m 38ms/step - accuracy: 0.0362 - loss: 6.2069\n",
      "Epoch 3/10\n",
      "\u001b[1m104/104\u001b[0m \u001b[32m━━━━━━━━━━━━━━━━━━━━\u001b[0m\u001b[37m\u001b[0m \u001b[1m4s\u001b[0m 37ms/step - accuracy: 0.0423 - loss: 6.0642\n",
      "Epoch 4/10\n",
      "\u001b[1m104/104\u001b[0m \u001b[32m━━━━━━━━━━━━━━━━━━━━\u001b[0m\u001b[37m\u001b[0m \u001b[1m4s\u001b[0m 37ms/step - accuracy: 0.0579 - loss: 5.9650\n",
      "Epoch 5/10\n",
      "\u001b[1m104/104\u001b[0m \u001b[32m━━━━━━━━━━━━━━━━━━━━\u001b[0m\u001b[37m\u001b[0m \u001b[1m4s\u001b[0m 37ms/step - accuracy: 0.0626 - loss: 5.8797\n",
      "Epoch 6/10\n",
      "\u001b[1m104/104\u001b[0m \u001b[32m━━━━━━━━━━━━━━━━━━━━\u001b[0m\u001b[37m\u001b[0m \u001b[1m4s\u001b[0m 38ms/step - accuracy: 0.0679 - loss: 5.8105\n",
      "Epoch 7/10\n",
      "\u001b[1m104/104\u001b[0m \u001b[32m━━━━━━━━━━━━━━━━━━━━\u001b[0m\u001b[37m\u001b[0m \u001b[1m4s\u001b[0m 38ms/step - accuracy: 0.0712 - loss: 5.7209\n",
      "Epoch 8/10\n",
      "\u001b[1m104/104\u001b[0m \u001b[32m━━━━━━━━━━━━━━━━━━━━\u001b[0m\u001b[37m\u001b[0m \u001b[1m4s\u001b[0m 38ms/step - accuracy: 0.0705 - loss: 5.6390\n",
      "Epoch 9/10\n",
      "\u001b[1m104/104\u001b[0m \u001b[32m━━━━━━━━━━━━━━━━━━━━\u001b[0m\u001b[37m\u001b[0m \u001b[1m4s\u001b[0m 38ms/step - accuracy: 0.0715 - loss: 5.5654\n",
      "Epoch 10/10\n",
      "\u001b[1m104/104\u001b[0m \u001b[32m━━━━━━━━━━━━━━━━━━━━\u001b[0m\u001b[37m\u001b[0m \u001b[1m4s\u001b[0m 38ms/step - accuracy: 0.0763 - loss: 5.5022\n"
     ]
    }
   ],
   "source": [
    "EPOCHS = 10\n",
    "history = model.fit(features, labels, epochs = EPOCHS)"
   ]
  },
  {
   "cell_type": "markdown",
   "id": "fa6ada9e-78c4-47e2-bfca-0abfa1f02bc2",
   "metadata": {},
   "source": [
    "# Loss Accuracy Curve"
   ]
  },
  {
   "cell_type": "code",
   "execution_count": 33,
   "id": "c116854a-cbae-4772-9f71-00285210a896",
   "metadata": {},
   "outputs": [],
   "source": [
    "#Helper function\n",
    "def plot_graph(history, string):\n",
    "    plt.plot(history.history[string])\n",
    "    plt.xlabel(\"Epochs\")\n",
    "    plt.ylabel(string)\n",
    "    plt.show()"
   ]
  },
  {
   "cell_type": "code",
   "execution_count": 34,
   "id": "0f76ea13-4a41-449e-842b-6bfb8170112d",
   "metadata": {},
   "outputs": [
    {
     "data": {
      "image/png": "[encoded data removed]",
      "text/plain": [
       "<Figure size 640x480 with 1 Axes>"
      ]
     },
     "metadata": {},
     "output_type": "display_data"
    },
    {
     "data": {
      "image/png": "[encoded data removed]",
      "text/plain": [
       "<Figure size 640x480 with 1 Axes>"
      ]
     },
     "metadata": {},
     "output_type": "display_data"
    }
   ],
   "source": [
    "plot_graph(history, 'accuracy')\n",
    "plot_graph(history, 'loss')"
   ]
  },
  {
   "cell_type": "code",
   "execution_count": 35,
   "id": "fa6ad14a-b8da-4555-b605-c4a65ce6488f",
   "metadata": {},
   "outputs": [
    {
     "name": "stderr",
     "output_type": "stream",
     "text": [
      "WARNING:absl:You are saving your model as an HDF5 file via `model.save()` or `keras.saving.save_model(model)`. This file format is considered legacy. We recommend using instead the native Keras format, e.g. `model.save('my_model.keras')` or `keras.saving.save_model(model, 'my_model.keras')`. \n"
     ]
    }
   ],
   "source": [
    "model.save('kaggle/test_generator.h5')\n",
    "#load the save model if you want to skip the training\n",
    "#tf.keras.models.load_model('/kaggle/working/test_generator.h5') "
   ]
  },
  {
   "cell_type": "markdown",
   "id": "fe7c8df3-a4e9-477d-b123-196b0703b771",
   "metadata": {},
   "source": [
    "文本生成"
   ]
  },
  {
   "cell_type": "code",
   "execution_count": 36,
   "id": "008ef102-9d20-40a9-a137-4aa2c126a7ee",
   "metadata": {},
   "outputs": [],
   "source": [
    "def test_generator(string, num):\n",
    "    if len(string)==0:\n",
    "        print(\"Error: No word found\")\n",
    "        return\n",
    "    for _ in range(num):\n",
    "        token_list = tokenizer.texts_to_sequences([string])[0]\n",
    "        token_list = pad_sequences([token_list], maxlen=max_seq_len-1, padding = \"pre\")\n",
    "        probabilities = model.predict(token_list)\n",
    "        choice = np.random.choice([1,2,3])\n",
    "        predicted = np.argsort(probabilities, axis = -1)[0][-choice]\n",
    "        if predicted !=0:\n",
    "            generated_word = tokenizer.index_word[predicted]\n",
    "            string += \" \" + generated_word\n",
    "    print(string)"
   ]
  },
  {
   "cell_type": "code",
   "execution_count": 37,
   "id": "f6b0c9f3-2ff9-45ca-8945-54ae6b5cfb88",
   "metadata": {},
   "outputs": [
    {
     "name": "stdout",
     "output_type": "stream",
     "text": [
      "\u001b[1m1/1\u001b[0m \u001b[32m━━━━━━━━━━━━━━━━━━━━\u001b[0m\u001b[37m\u001b[0m \u001b[1m1s\u001b[0m 664ms/step\n",
      "\u001b[1m1/1\u001b[0m \u001b[32m━━━━━━━━━━━━━━━━━━━━\u001b[0m\u001b[37m\u001b[0m \u001b[1m0s\u001b[0m 88ms/step\n",
      "\u001b[1m1/1\u001b[0m \u001b[32m━━━━━━━━━━━━━━━━━━━━\u001b[0m\u001b[37m\u001b[0m \u001b[1m0s\u001b[0m 90ms/step\n",
      "\u001b[1m1/1\u001b[0m \u001b[32m━━━━━━━━━━━━━━━━━━━━\u001b[0m\u001b[37m\u001b[0m \u001b[1m0s\u001b[0m 94ms/step\n",
      "\u001b[1m1/1\u001b[0m \u001b[32m━━━━━━━━━━━━━━━━━━━━\u001b[0m\u001b[37m\u001b[0m \u001b[1m0s\u001b[0m 86ms/step\n",
      "\u001b[1m1/1\u001b[0m \u001b[32m━━━━━━━━━━━━━━━━━━━━\u001b[0m\u001b[37m\u001b[0m \u001b[1m0s\u001b[0m 90ms/step\n",
      "\u001b[1m1/1\u001b[0m \u001b[32m━━━━━━━━━━━━━━━━━━━━\u001b[0m\u001b[37m\u001b[0m \u001b[1m0s\u001b[0m 85ms/step\n",
      "\u001b[1m1/1\u001b[0m \u001b[32m━━━━━━━━━━━━━━━━━━━━\u001b[0m\u001b[37m\u001b[0m \u001b[1m0s\u001b[0m 89ms/step\n",
      "\u001b[1m1/1\u001b[0m \u001b[32m━━━━━━━━━━━━━━━━━━━━\u001b[0m\u001b[37m\u001b[0m \u001b[1m0s\u001b[0m 88ms/step\n",
      "\u001b[1m1/1\u001b[0m \u001b[32m━━━━━━━━━━━━━━━━━━━━\u001b[0m\u001b[37m\u001b[0m \u001b[1m0s\u001b[0m 92ms/step\n",
      "\u001b[1m1/1\u001b[0m \u001b[32m━━━━━━━━━━━━━━━━━━━━\u001b[0m\u001b[37m\u001b[0m \u001b[1m0s\u001b[0m 87ms/step\n",
      "\u001b[1m1/1\u001b[0m \u001b[32m━━━━━━━━━━━━━━━━━━━━\u001b[0m\u001b[37m\u001b[0m \u001b[1m0s\u001b[0m 85ms/step\n",
      "\u001b[1m1/1\u001b[0m \u001b[32m━━━━━━━━━━━━━━━━━━━━\u001b[0m\u001b[37m\u001b[0m \u001b[1m0s\u001b[0m 86ms/step\n",
      "\u001b[1m1/1\u001b[0m \u001b[32m━━━━━━━━━━━━━━━━━━━━\u001b[0m\u001b[37m\u001b[0m \u001b[1m0s\u001b[0m 89ms/step\n",
      "\u001b[1m1/1\u001b[0m \u001b[32m━━━━━━━━━━━━━━━━━━━━\u001b[0m\u001b[37m\u001b[0m \u001b[1m0s\u001b[0m 85ms/step\n",
      "\u001b[1m1/1\u001b[0m \u001b[32m━━━━━━━━━━━━━━━━━━━━\u001b[0m\u001b[37m\u001b[0m \u001b[1m0s\u001b[0m 90ms/step\n",
      "\u001b[1m1/1\u001b[0m \u001b[32m━━━━━━━━━━━━━━━━━━━━\u001b[0m\u001b[37m\u001b[0m \u001b[1m0s\u001b[0m 88ms/step\n",
      "\u001b[1m1/1\u001b[0m \u001b[32m━━━━━━━━━━━━━━━━━━━━\u001b[0m\u001b[37m\u001b[0m \u001b[1m0s\u001b[0m 86ms/step\n",
      "\u001b[1m1/1\u001b[0m \u001b[32m━━━━━━━━━━━━━━━━━━━━\u001b[0m\u001b[37m\u001b[0m \u001b[1m0s\u001b[0m 87ms/step\n",
      "\u001b[1m1/1\u001b[0m \u001b[32m━━━━━━━━━━━━━━━━━━━━\u001b[0m\u001b[37m\u001b[0m \u001b[1m0s\u001b[0m 89ms/step\n",
      "long live the king i the devil the lord i the lord i be lord i the devil the lord i i be devil\n"
     ]
    }
   ],
   "source": [
    "test_generator(\"long live the king\", 20)"
   ]
  },
  {
   "cell_type": "code",
   "execution_count": 38,
   "id": "11f1541d-639c-4ea2-8316-6963ac9b686d",
   "metadata": {},
   "outputs": [
    {
     "name": "stdout",
     "output_type": "stream",
     "text": [
      "\u001b[1m1/1\u001b[0m \u001b[32m━━━━━━━━━━━━━━━━━━━━\u001b[0m\u001b[37m\u001b[0m \u001b[1m0s\u001b[0m 93ms/step\n",
      "\u001b[1m1/1\u001b[0m \u001b[32m━━━━━━━━━━━━━━━━━━━━\u001b[0m\u001b[37m\u001b[0m \u001b[1m0s\u001b[0m 88ms/step\n",
      "\u001b[1m1/1\u001b[0m \u001b[32m━━━━━━━━━━━━━━━━━━━━\u001b[0m\u001b[37m\u001b[0m \u001b[1m0s\u001b[0m 88ms/step\n",
      "\u001b[1m1/1\u001b[0m \u001b[32m━━━━━━━━━━━━━━━━━━━━\u001b[0m\u001b[37m\u001b[0m \u001b[1m0s\u001b[0m 86ms/step\n",
      "\u001b[1m1/1\u001b[0m \u001b[32m━━━━━━━━━━━━━━━━━━━━\u001b[0m\u001b[37m\u001b[0m \u001b[1m0s\u001b[0m 93ms/step\n",
      "Life of the devil i be\n"
     ]
    }
   ],
   "source": [
    "test_generator(\"Life\", 5)"
   ]
  },
  {
   "cell_type": "code",
   "execution_count": null,
   "id": "2e9e8844-b26c-40ad-8507-e2e0e3cf1383",
   "metadata": {},
   "outputs": [],
   "source": []
  },
  {
   "cell_type": "code",
   "execution_count": null,
   "id": "a147fc11-52e3-478d-b5e9-9cdcdc56650c",
   "metadata": {},
   "outputs": [],
   "source": []
  },
  {
   "cell_type": "code",
   "execution_count": null,
   "id": "94af1b0a-bee1-4310-84dd-5214a501cd1e",
   "metadata": {},
   "outputs": [],
   "source": []
  },
  {
   "cell_type": "code",
   "execution_count": null,
   "id": "8a290ffe-7501-466d-8980-5394677e7f8e",
   "metadata": {},
   "outputs": [],
   "source": []
  },
  {
   "cell_type": "code",
   "execution_count": null,
   "id": "3bf738f2-1649-49c9-a61f-f613ea031e31",
   "metadata": {},
   "outputs": [],
   "source": []
  },
  {
   "cell_type": "code",
   "execution_count": null,
   "id": "ab93bd38-2189-479b-9715-471daa9ee680",
   "metadata": {},
   "outputs": [],
   "source": []
  },
  {
   "cell_type": "code",
   "execution_count": 10,
   "id": "cc7608fd-57fd-491a-b6be-f95ca6149de6",
   "metadata": {},
   "outputs": [
    {
     "name": "stdout",
     "output_type": "stream",
     "text": [
      "I've been changed in inner function\n"
     ]
    }
   ],
   "source": [
    "   def outer_function():\n",
    "       outer_var = \"I'm in outer function\"\n",
    "       def inner_function():\n",
    "           nonlocal outer_var\n",
    "           outer_var = \"I've been changed in inner function\"\n",
    "       inner_function()\n",
    "       print(outer_var)  # 输出\"I've been changed in inner function\"\n",
    "\n",
    "   outer_function()"
   ]
  },
  {
   "cell_type": "code",
   "execution_count": null,
   "id": "d5392ec2-9664-4965-a937-7989a28e95d0",
   "metadata": {},
   "outputs": [],
   "source": []
  }
 ],
 "metadata": {
  "kernelspec": {
   "display_name": "Python 3 (ipykernel)",
   "language": "python",
   "name": "python3"
  },
  "language_info": {
   "codemirror_mode": {
    "name": "ipython",
    "version": 3
   },
   "file_extension": ".py",
   "mimetype": "text/x-python",
   "name": "python",
   "nbconvert_exporter": "python",
   "pygments_lexer": "ipython3",
   "version": "3.11.7"
  }
 },
 "nbformat": 4,
 "nbformat_minor": 5
}
