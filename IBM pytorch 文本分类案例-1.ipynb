{
 "cells": [
  {
   "cell_type": "markdown",
   "id": "e4d10267-341f-42dc-b9a0-a8dc425d09b2",
   "metadata": {},
   "source": [
    "https://www.datacamp.com/tutorial/nlp-with-pytorch-a-comprehensive-guide"
   ]
  },
  {
   "cell_type": "code",
   "execution_count": 3,
   "id": "39021dd6-c9cd-4852-938a-5313a5a459b5",
   "metadata": {},
   "outputs": [],
   "source": [
    "import pandas as pd\n",
    "import os\n",
    "from sklearn.model_selection import train_test_split\n",
    "import seaborn as sns\n",
    "import numpy as np\n",
    "import matplotlib.pyplot as plt \n",
    "from nltk.corpus import stopwords\n",
    "import nltk\n",
    "import re\n",
    "from collections import Counter\n",
    "from torch.utils.data import TensorDataset\n",
    "import torch\n",
    "import statistics\n",
    "\n",
    "from collections import Counter"
   ]
  },
  {
   "cell_type": "raw",
   "id": "a1139c2a-aafd-4d31-a534-227ddb4f3fd6",
   "metadata": {},
   "source": [
    "nltk.download('stopwords')"
   ]
  },
  {
   "cell_type": "code",
   "execution_count": 4,
   "id": "ef2e16cf-ee9c-4dcd-95cf-077de856256e",
   "metadata": {},
   "outputs": [],
   "source": [
    "os.chdir('E:\\Python code\\IBM 文本分类数据')"
   ]
  },
  {
   "cell_type": "code",
   "execution_count": 5,
   "id": "0f5d62e8-7a95-4996-a8d1-5f65ac9b8eac",
   "metadata": {},
   "outputs": [
    {
     "data": {
      "text/html": [
       "<div>\n",
       "<style scoped>\n",
       "    .dataframe tbody tr th:only-of-type {\n",
       "        vertical-align: middle;\n",
       "    }\n",
       "\n",
       "    .dataframe tbody tr th {\n",
       "        vertical-align: top;\n",
       "    }\n",
       "\n",
       "    .dataframe thead th {\n",
       "        text-align: right;\n",
       "    }\n",
       "</style>\n",
       "<table border=\"1\" class=\"dataframe\">\n",
       "  <thead>\n",
       "    <tr style=\"text-align: right;\">\n",
       "      <th></th>\n",
       "      <th>review</th>\n",
       "      <th>sentiment</th>\n",
       "    </tr>\n",
       "  </thead>\n",
       "  <tbody>\n",
       "    <tr>\n",
       "      <th>0</th>\n",
       "      <td>One of the other reviewers has mentioned that ...</td>\n",
       "      <td>positive</td>\n",
       "    </tr>\n",
       "    <tr>\n",
       "      <th>1</th>\n",
       "      <td>A wonderful little production. &lt;br /&gt;&lt;br /&gt;The...</td>\n",
       "      <td>positive</td>\n",
       "    </tr>\n",
       "    <tr>\n",
       "      <th>2</th>\n",
       "      <td>I thought this was a wonderful way to spend ti...</td>\n",
       "      <td>positive</td>\n",
       "    </tr>\n",
       "    <tr>\n",
       "      <th>3</th>\n",
       "      <td>Basically there's a family where a little boy ...</td>\n",
       "      <td>negative</td>\n",
       "    </tr>\n",
       "    <tr>\n",
       "      <th>4</th>\n",
       "      <td>Petter Mattei's \"Love in the Time of Money\" is...</td>\n",
       "      <td>positive</td>\n",
       "    </tr>\n",
       "  </tbody>\n",
       "</table>\n",
       "</div>"
      ],
      "text/plain": [
       "                                              review sentiment\n",
       "0  One of the other reviewers has mentioned that ...  positive\n",
       "1  A wonderful little production. <br /><br />The...  positive\n",
       "2  I thought this was a wonderful way to spend ti...  positive\n",
       "3  Basically there's a family where a little boy ...  negative\n",
       "4  Petter Mattei's \"Love in the Time of Money\" is...  positive"
      ]
     },
     "execution_count": 5,
     "metadata": {},
     "output_type": "execute_result"
    }
   ],
   "source": [
    "file_name = 'IMDB Dataset.csv'\n",
    "df = pd.read_csv(file_name)\n",
    "df.head()"
   ]
  },
  {
   "cell_type": "raw",
   "id": "52bad9df-25f7-4d62-906a-eafdfef3727b",
   "metadata": {},
   "source": [
    "df['sentiment'].unique()"
   ]
  },
  {
   "cell_type": "code",
   "execution_count": 6,
   "id": "8472807b-4e04-4b3a-8281-29cca040f4ed",
   "metadata": {},
   "outputs": [
    {
     "name": "stdout",
     "output_type": "stream",
     "text": [
      "中位数: 970.0\n",
      "众数: [658]\n"
     ]
    }
   ],
   "source": [
    "# 计算字符串列中每一行文本的长度\n",
    "text_lengths = df['review'].str.len()\n",
    "#print(text_lengths)\n",
    "# 查看文本长度的分布\n",
    "length_distribution = text_lengths.value_counts().sort_index()\n",
    "\n",
    "#查看中位数\n",
    "madian_value = statistics.median(text_lengths)\n",
    "\n",
    "print(f\"中位数: {madian_value}\")\n",
    "\n",
    "#查看众数\n",
    "counter = Counter(text_lengths)\n",
    "\n",
    "# 找到出现次数最多的值\n",
    "max_count = max(counter.values())\n",
    "\n",
    "# 获取所有众数（出现次数等于max_count的元素）\n",
    "modes = [key for key, count in counter.items() if count == max_count]\n",
    "\n",
    "print(f\"众数: {modes}\")"
   ]
  },
  {
   "cell_type": "markdown",
   "id": "eb1ee877-91ae-4f26-bda5-7d8623970226",
   "metadata": {},
   "source": [
    "探索性数据分析"
   ]
  },
  {
   "cell_type": "code",
   "execution_count": 7,
   "id": "78f55ef8-28fc-43f8-85fe-569cd4b63b90",
   "metadata": {},
   "outputs": [
    {
     "name": "stdout",
     "output_type": "stream",
     "text": [
      "train data shape: (37500,)\n",
      "test data shape: (12500,)\n"
     ]
    },
    {
     "data": {
      "image/png": "[encoded data removed]",
      "text/plain": [
       "<Figure size 640x480 with 1 Axes>"
      ]
     },
     "metadata": {},
     "output_type": "display_data"
    }
   ],
   "source": [
    "X,y = df['review'].values,df['sentiment'].values\n",
    "x_train,x_test,y_train,y_test = train_test_split(X,y,stratify=y)\n",
    "print(f'train data shape: {x_train.shape}')\n",
    "print(f'test data shape: {x_test.shape}')\n",
    "\n",
    "\n",
    "dd = pd.Series(y_train).value_counts()\n",
    "sns.barplot(x=np.array(['negative','positive']),y=dd.values)\n",
    "plt.show()"
   ]
  },
  {
   "cell_type": "raw",
   "id": "0adf958e-456c-4220-849b-1f36f15d1d37",
   "metadata": {},
   "source": [
    "x_train"
   ]
  },
  {
   "cell_type": "markdown",
   "id": "5f10a0cf-a4ca-4a0f-b246-7c83b55706d0",
   "metadata": {},
   "source": [
    "# 文本特征工程"
   ]
  },
  {
   "cell_type": "code",
   "execution_count": 9,
   "id": "6466996f-9e88-45af-9685-bcbb694d4d59",
   "metadata": {},
   "outputs": [],
   "source": [
    "def preprocess_string(s):\n",
    "    # Remove all non-word characters (everything except numbers and letters)\n",
    "    s = re.sub(r\"[^\\w\\s]\", '', s)\n",
    "    # Replace all runs of whitespaces with no space\n",
    "    s = re.sub(r\"\\s+\", '', s)\n",
    "    # replace digits with no space\n",
    "    s = re.sub(r\"\\d\", '', s)\n",
    "    return s\n",
    "\n",
    "\n",
    "def tokenize(x_train,y_train,x_val,y_val):\n",
    "    word_list = []\n",
    "\n",
    "\n",
    "    stop_words = set(stopwords.words('english'))\n",
    "    for sent in x_train:\n",
    "        for word in sent.lower().split():\n",
    "            word = preprocess_string(word)\n",
    "            if word not in stop_words and word != '':\n",
    "                word_list.append(word)\n",
    " \n",
    "    corpus = Counter(word_list)\n",
    "    # sorting on the basis of most common words\n",
    "    corpus_ = sorted(corpus,key=corpus.get,reverse=True)[:1000]\n",
    "    # creating a dict\n",
    "    onehot_dict = {w:i+1 for i,w in enumerate(corpus_)}\n",
    "   \n",
    "    # tokenize\n",
    "    final_list_train,final_list_test = [],[]\n",
    "    for sent in x_train:\n",
    "            final_list_train.append([onehot_dict[preprocess_string(word)] for word in sent.lower().split()\n",
    "                                     if preprocess_string(word) in onehot_dict.keys()])\n",
    "        \n",
    "    for sent in x_val:\n",
    "            final_list_test.append([onehot_dict[preprocess_string(word)] for word in sent.lower().split()\n",
    "                                    if preprocess_string(word) in onehot_dict.keys()])\n",
    "           \n",
    "    encoded_train = [1 if label =='positive' else 0 for label in y_train]  \n",
    "    encoded_test = [1 if label =='positive' else 0 for label in y_val]\n",
    "\n",
    "\n",
    "    #设置数据的最大长度\n",
    "    #final_list_train = preprocess_seq_len(final_list_train,max_length)\n",
    "    \n",
    "    #final_list_test = preprocess_seq_len(final_list_test,max_length)\n",
    "        \n",
    "\n",
    "    \n",
    "    #return np.array(final_list_train), np.array(encoded_train),np.array(final_list_test), np.array(encoded_test),onehot_dict\n",
    "    return final_list_train, encoded_train,final_list_test, encoded_test,onehot_dict\n",
    "\n",
    "\n",
    "x_train,y_train,x_test,y_test,vocab = tokenize(x_train,y_train,x_test,y_test)"
   ]
  },
  {
   "cell_type": "code",
   "execution_count": 10,
   "id": "98ec32e8-8906-4233-83e6-e4a720d2715e",
   "metadata": {},
   "outputs": [
    {
     "data": {
      "text/plain": [
       "<Axes: >"
      ]
     },
     "execution_count": 10,
     "metadata": {},
     "output_type": "execute_result"
    },
    {
     "data": {
      "image/png": "[encoded data removed]",
      "text/plain": [
       "<Figure size 640x480 with 1 Axes>"
      ]
     },
     "metadata": {},
     "output_type": "display_data"
    }
   ],
   "source": [
    "rev_len = [len(i) for i in x_train]\n",
    "pd.Series(rev_len).hist()"
   ]
  },
  {
   "cell_type": "code",
   "execution_count": 15,
   "id": "552cd1ca-91d3-4a15-ab4d-4b231a24d310",
   "metadata": {},
   "outputs": [],
   "source": [
    "max_length = 50\n",
    "\n",
    "def preprocess_seq_len(data,max_length):\n",
    "    \n",
    "    return_data  = []\n",
    "    for seqs in data:\n",
    "        #print(seqs)\n",
    "        if len(seqs)>=max_length:\n",
    "            seqs = seqs[0:max_length]\n",
    "        else:\n",
    "            # 填充所有子列表到这个长度\n",
    "            seqs = seqs + [0] * (max_length - len(seqs))\n",
    "        #print(seqs)\n",
    "        return_data.append(seqs)\n",
    "        \n",
    "    return return_data"
   ]
  },
  {
   "cell_type": "code",
   "execution_count": 24,
   "id": "bd0aeb1e-fd52-4be1-ad7b-23f8aeba2945",
   "metadata": {},
   "outputs": [],
   "source": [
    "x_train_1 = preprocess_seq_len(x_train,max_length)\n",
    "x_train_1 = np.array(x_train_1)"
   ]
  },
  {
   "cell_type": "code",
   "execution_count": 25,
   "id": "34dced07-d6cd-4042-aff6-81c7fd4a1e91",
   "metadata": {},
   "outputs": [],
   "source": [
    "x_test_1 = preprocess_seq_len(x_test,max_length)\n",
    "x_test_1 = np.array(x_test_1)"
   ]
  },
  {
   "cell_type": "code",
   "execution_count": null,
   "id": "e8b3ddd7-d66a-4b71-a198-a95d2643566d",
   "metadata": {},
   "outputs": [],
   "source": []
  },
  {
   "cell_type": "code",
   "execution_count": 35,
   "id": "46f48aca-5e30-4935-a2f5-8f0c1b5339c0",
   "metadata": {},
   "outputs": [],
   "source": [
    "def padding_(sentences, seq_len):\n",
    "    features = np.zeros((len(sentences), seq_len),dtype=int)\n",
    "    for ii, review in enumerate(sentences):\n",
    "        if len(review) != 0:\n",
    "            features[ii, -len(review):] = np.array(review)[:seq_len]\n",
    "    return features\n",
    "\n",
    "\n",
    "x_train_pad = padding_(x_train_1,50)\n",
    "x_test_pad = padding_(x_test_1,50)"
   ]
  },
  {
   "cell_type": "code",
   "execution_count": 36,
   "id": "6a4e0fbb-0e12-497c-bb7e-d5e4d7caad33",
   "metadata": {},
   "outputs": [
    {
     "data": {
      "text/plain": [
       "array([346, 712, 119, 734, 456, 491, 569, 248, 888, 131, 318,   3, 315,\n",
       "        39,   3,  29,  57, 329, 714, 456,  24,   3,  91, 508,  66, 155,\n",
       "        72,  93, 149, 105, 634,  58, 318,   3,  63,  23, 119, 656, 491,\n",
       "       141, 714, 338, 182, 268, 124,   8, 118, 196, 119, 354])"
      ]
     },
     "execution_count": 36,
     "metadata": {},
     "output_type": "execute_result"
    }
   ],
   "source": [
    "x_train_pad[1]"
   ]
  },
  {
   "cell_type": "code",
   "execution_count": 37,
   "id": "d2bdcdaf-0a0c-4d70-9b72-e1b41104ee3e",
   "metadata": {},
   "outputs": [
    {
     "ename": "TypeError",
     "evalue": "expected np.ndarray (got list)",
     "output_type": "error",
     "traceback": [
      "\u001b[1;31m---------------------------------------------------------------------------\u001b[0m",
      "\u001b[1;31mTypeError\u001b[0m                                 Traceback (most recent call last)",
      "Cell \u001b[1;32mIn[37], line 2\u001b[0m\n\u001b[0;32m      1\u001b[0m \u001b[38;5;66;03m# create Tensor datasets\u001b[39;00m\n\u001b[1;32m----> 2\u001b[0m train_data \u001b[38;5;241m=\u001b[39m TensorDataset(torch\u001b[38;5;241m.\u001b[39mfrom_numpy(x_train_pad), torch\u001b[38;5;241m.\u001b[39mfrom_numpy(y_train))\n\u001b[0;32m      3\u001b[0m valid_data \u001b[38;5;241m=\u001b[39m TensorDataset(torch\u001b[38;5;241m.\u001b[39mfrom_numpy(x_test_pad), torch\u001b[38;5;241m.\u001b[39mfrom_numpy(y_test))\n\u001b[0;32m      6\u001b[0m \u001b[38;5;66;03m# dataloaders\u001b[39;00m\n",
      "\u001b[1;31mTypeError\u001b[0m: expected np.ndarray (got list)"
     ]
    }
   ],
   "source": [
    "# create Tensor datasets\n",
    "train_data = TensorDataset(torch.from_numpy(x_train_pad), torch.from_numpy(y_train))\n",
    "valid_data = TensorDataset(torch.from_numpy(x_test_pad), torch.from_numpy(y_test))\n",
    "\n",
    "\n",
    "# dataloaders\n",
    "batch_size = 50\n",
    "\n",
    "\n",
    "# make sure to SHUFFLE your data\n",
    "train_loader = DataLoader(train_data, shuffle=True, batch_size=batch_size)\n",
    "valid_loader = DataLoader(valid_data, shuffle=True, batch_size=batch_size)\n",
    "\n",
    "\n",
    "# obtain one batch of training data\n",
    "dataiter = iter(train_loader)\n",
    "sample_x, sample_y = next(dataiter)\n",
    "\n",
    "\n",
    "print('Sample input size: ', sample_x.size()) # batch_size, seq_length\n",
    "print('Sample input: \\n', sample_x)\n",
    "print('Sample output: \\n', sample_y)"
   ]
  },
  {
   "cell_type": "code",
   "execution_count": null,
   "id": "d787e72b-9152-4ff9-8869-07d14982c466",
   "metadata": {},
   "outputs": [],
   "source": []
  },
  {
   "cell_type": "code",
   "execution_count": null,
   "id": "ff15595b-f5c0-4a6b-9f71-46512ad74247",
   "metadata": {},
   "outputs": [],
   "source": []
  },
  {
   "cell_type": "code",
   "execution_count": null,
   "id": "1ff6d364-ba66-4bfa-b476-df025c7fdec4",
   "metadata": {},
   "outputs": [],
   "source": []
  },
  {
   "cell_type": "code",
   "execution_count": null,
   "id": "d2db5eb6-9fda-4aa5-ab8b-3cac1247e645",
   "metadata": {},
   "outputs": [],
   "source": []
  },
  {
   "cell_type": "code",
   "execution_count": null,
   "id": "a381bcea-adf9-476a-bf2e-8682a33241d3",
   "metadata": {},
   "outputs": [],
   "source": []
  },
  {
   "cell_type": "code",
   "execution_count": null,
   "id": "4cd354d3-95cb-43ed-92c6-e3e387ebf866",
   "metadata": {},
   "outputs": [],
   "source": []
  },
  {
   "cell_type": "code",
   "execution_count": null,
   "id": "2d9e6c81-193a-4c35-8b16-2718b0204ffe",
   "metadata": {},
   "outputs": [],
   "source": []
  },
  {
   "cell_type": "code",
   "execution_count": null,
   "id": "989359a8-06cc-4c5a-a5de-14dabbb249e4",
   "metadata": {},
   "outputs": [],
   "source": []
  },
  {
   "cell_type": "code",
   "execution_count": null,
   "id": "2b4d9b2e-5bfe-42df-8a80-7329ecb43c55",
   "metadata": {},
   "outputs": [],
   "source": []
  },
  {
   "cell_type": "code",
   "execution_count": null,
   "id": "1eb9e5e4-fd30-4b4a-ba97-dc390adadf9d",
   "metadata": {},
   "outputs": [],
   "source": [
    "x_train_1 = np.array(x_train[0])\n",
    "\n",
    "for i in x_train[1::]:\n",
    "    #test.append(np.array(i))\n",
    "    new_element = np.array(i)\n",
    "    x_train_1 = np.concatenate((x_train_1, new_element))\n",
    "\n",
    "#x_train = x_train_1.copy()"
   ]
  },
  {
   "cell_type": "code",
   "execution_count": null,
   "id": "50d29d23-643c-4704-81f5-37174eec6b01",
   "metadata": {},
   "outputs": [],
   "source": []
  },
  {
   "cell_type": "code",
   "execution_count": 10,
   "id": "32e011b4-f4c0-425c-a028-8f6743d89a0d",
   "metadata": {},
   "outputs": [
    {
     "name": "stdout",
     "output_type": "stream",
     "text": [
      "[1, 2, 3, 4, 5, 6, 7, 8, 9]\n"
     ]
    }
   ],
   "source": [
    "# 假设我们有两个列表\n",
    "list1 = [1, 2, 3]\n",
    "list2 = [4, 5, 6]\n",
    "list3 = [7, 8, 9]\n",
    "\n",
    "# 使用 extend 方法组合列表\n",
    "combined_list = list1.copy()  # 创建 list1 的副本\n",
    "combined_list.extend(list2)\n",
    "combined_list.extend(list3)\n",
    "\n",
    "print(combined_list)"
   ]
  },
  {
   "cell_type": "code",
   "execution_count": null,
   "id": "fa0d881c-e25b-4f4e-aa5a-f7ad5701e350",
   "metadata": {},
   "outputs": [],
   "source": []
  },
  {
   "cell_type": "code",
   "execution_count": 17,
   "id": "2ff14a6c-8b9b-425d-900d-ec9cc909ebec",
   "metadata": {},
   "outputs": [],
   "source": [
    "y_train_1 = np.array(y_train[0])"
   ]
  },
  {
   "cell_type": "code",
   "execution_count": 18,
   "id": "68d5e660-b29f-402e-a651-06227fb0ae63",
   "metadata": {},
   "outputs": [],
   "source": [
    "y_train_2 = np.array(y_train[1])"
   ]
  },
  {
   "cell_type": "code",
   "execution_count": 21,
   "id": "586088d5-add1-4172-bb5d-c4017a38eca0",
   "metadata": {},
   "outputs": [
    {
     "ename": "TypeError",
     "evalue": "Cannot construct a dtype from an array",
     "output_type": "error",
     "traceback": [
      "\u001b[1;31m---------------------------------------------------------------------------\u001b[0m",
      "\u001b[1;31mTypeError\u001b[0m                                 Traceback (most recent call last)",
      "Cell \u001b[1;32mIn[21], line 1\u001b[0m\n\u001b[1;32m----> 1\u001b[0m \u001b[38;5;28mtype\u001b[39m(np\u001b[38;5;241m.\u001b[39marray(y_train_1,y_train_2))\n",
      "\u001b[1;31mTypeError\u001b[0m: Cannot construct a dtype from an array"
     ]
    }
   ],
   "source": [
    "type(np.array(y_train_1,y_train_2))"
   ]
  },
  {
   "cell_type": "code",
   "execution_count": null,
   "id": "716fce9f-8bd4-45e1-b426-a694a9145c5f",
   "metadata": {},
   "outputs": [],
   "source": []
  },
  {
   "cell_type": "code",
   "execution_count": 9,
   "id": "1651656d-2b26-45d3-86aa-8f5657283257",
   "metadata": {},
   "outputs": [],
   "source": [
    "for i in y_train[1::]:\n",
    "    #test.append(np.array(i))\n",
    "    new_element = np.array(i)"
   ]
  },
  {
   "cell_type": "code",
   "execution_count": 7,
   "id": "d04fc246-dd86-4356-aede-fcf88907d4a0",
   "metadata": {},
   "outputs": [
    {
     "ename": "ValueError",
     "evalue": "zero-dimensional arrays cannot be concatenated",
     "output_type": "error",
     "traceback": [
      "\u001b[1;31m---------------------------------------------------------------------------\u001b[0m",
      "\u001b[1;31mValueError\u001b[0m                                Traceback (most recent call last)",
      "Cell \u001b[1;32mIn[7], line 6\u001b[0m\n\u001b[0;32m      3\u001b[0m \u001b[38;5;28;01mfor\u001b[39;00m i \u001b[38;5;129;01min\u001b[39;00m y_train[\u001b[38;5;241m1\u001b[39m::]:\n\u001b[0;32m      4\u001b[0m     \u001b[38;5;66;03m#test.append(np.array(i))\u001b[39;00m\n\u001b[0;32m      5\u001b[0m     new_element \u001b[38;5;241m=\u001b[39m np\u001b[38;5;241m.\u001b[39marray(i)\n\u001b[1;32m----> 6\u001b[0m     y_train_1 \u001b[38;5;241m=\u001b[39m np\u001b[38;5;241m.\u001b[39mconcatenate((y_train_1, new_element))\n\u001b[0;32m      8\u001b[0m y_train \u001b[38;5;241m=\u001b[39m y_train_1\u001b[38;5;241m.\u001b[39mcopy()\n",
      "\u001b[1;31mValueError\u001b[0m: zero-dimensional arrays cannot be concatenated"
     ]
    }
   ],
   "source": [
    "y_train_1 = np.array(y_train[0])\n",
    "\n",
    "for i in y_train[1::]:\n",
    "    #test.append(np.array(i))\n",
    "    new_element = np.array(i)\n",
    "    y_train_1 = np.concatenate((y_train_1, new_element))\n",
    "\n",
    "y_train = y_train_1.copy()"
   ]
  },
  {
   "cell_type": "code",
   "execution_count": 13,
   "id": "6fe069a5-57ca-4741-ba3e-4afd9e5ac97f",
   "metadata": {},
   "outputs": [],
   "source": [
    "y_train_1 = np.array(y_train[0])"
   ]
  },
  {
   "cell_type": "code",
   "execution_count": 15,
   "id": "88f0ef30-d225-4992-9c4d-af0e08665379",
   "metadata": {},
   "outputs": [
    {
     "name": "stdout",
     "output_type": "stream",
     "text": [
      "0\n"
     ]
    },
    {
     "ename": "ValueError",
     "evalue": "zero-dimensional arrays cannot be concatenated",
     "output_type": "error",
     "traceback": [
      "\u001b[1;31m---------------------------------------------------------------------------\u001b[0m",
      "\u001b[1;31mValueError\u001b[0m                                Traceback (most recent call last)",
      "Cell \u001b[1;32mIn[15], line 6\u001b[0m\n\u001b[0;32m      4\u001b[0m \u001b[38;5;66;03m#print(new_element)\u001b[39;00m\n\u001b[0;32m      5\u001b[0m \u001b[38;5;28mprint\u001b[39m(new_element)\n\u001b[1;32m----> 6\u001b[0m y_train_1 \u001b[38;5;241m=\u001b[39m np\u001b[38;5;241m.\u001b[39mconcatenate((y_train_1, new_element))\n",
      "\u001b[1;31mValueError\u001b[0m: zero-dimensional arrays cannot be concatenated"
     ]
    }
   ],
   "source": [
    "for i in y_train[1::]:\n",
    "    #test.append(np.array(i))\n",
    "    new_element = np.array(i)\n",
    "    #print(new_element)\n",
    "    print(new_element)\n",
    "    y_train_1 = np.concatenate((y_train_1, new_element))"
   ]
  },
  {
   "cell_type": "code",
   "execution_count": null,
   "id": "9653646c-65b9-49e3-9ecc-5ac2117e9b58",
   "metadata": {},
   "outputs": [],
   "source": []
  },
  {
   "cell_type": "code",
   "execution_count": null,
   "id": "96cd30e1-fd32-4191-9c59-812a448abb15",
   "metadata": {},
   "outputs": [],
   "source": []
  },
  {
   "cell_type": "code",
   "execution_count": null,
   "id": "a8475c5a-a9f7-4682-a69e-18dee735d97d",
   "metadata": {},
   "outputs": [],
   "source": []
  },
  {
   "cell_type": "code",
   "execution_count": null,
   "id": "2f5b879a-beee-4a63-8995-2b9e7acadc61",
   "metadata": {},
   "outputs": [],
   "source": []
  },
  {
   "cell_type": "code",
   "execution_count": null,
   "id": "a576928c-8871-4e1b-8140-76401455ee34",
   "metadata": {},
   "outputs": [],
   "source": []
  },
  {
   "cell_type": "code",
   "execution_count": 70,
   "id": "b4740033-8a3e-4ffc-af26-0377eba16116",
   "metadata": {},
   "outputs": [
    {
     "data": {
      "text/plain": [
       "list"
      ]
     },
     "execution_count": 70,
     "metadata": {},
     "output_type": "execute_result"
    }
   ],
   "source": [
    "type(x_train)"
   ]
  },
  {
   "cell_type": "code",
   "execution_count": 74,
   "id": "8659af43-37a2-4a47-997c-45368d264a5c",
   "metadata": {},
   "outputs": [
    {
     "data": {
      "text/plain": [
       "276"
      ]
     },
     "execution_count": 74,
     "metadata": {},
     "output_type": "execute_result"
    }
   ],
   "source": [
    "len(x_train[0])"
   ]
  },
  {
   "cell_type": "code",
   "execution_count": null,
   "id": "d8333e86-e636-4fd3-bd8c-f4be8534ee6f",
   "metadata": {},
   "outputs": [],
   "source": [
    "x_train_1 = np.array(x_train[0])\n",
    "\n",
    "for i in x_train[1::]:\n",
    "    #test.append(np.array(i))\n",
    "    new_element = np.array(i)\n",
    "    x_train_1 = np.concatenate((x_train_1, new_element))"
   ]
  },
  {
   "cell_type": "code",
   "execution_count": 81,
   "id": "f3815794-0a8a-4d91-87d3-b57d7fa0a892",
   "metadata": {},
   "outputs": [
    {
     "data": {
      "text/plain": [
       "numpy.ndarray"
      ]
     },
     "execution_count": 81,
     "metadata": {},
     "output_type": "execute_result"
    }
   ],
   "source": [
    "type(test)"
   ]
  },
  {
   "cell_type": "code",
   "execution_count": 76,
   "id": "22a897be-a8b2-44a9-8413-7113ae7d2f95",
   "metadata": {},
   "outputs": [
    {
     "ename": "ValueError",
     "evalue": "setting an array element with a sequence. The requested array has an inhomogeneous shape after 1 dimensions. The detected shape was (100,) + inhomogeneous part.",
     "output_type": "error",
     "traceback": [
      "\u001b[1;31m---------------------------------------------------------------------------\u001b[0m",
      "\u001b[1;31mValueError\u001b[0m                                Traceback (most recent call last)",
      "Cell \u001b[1;32mIn[76], line 1\u001b[0m\n\u001b[1;32m----> 1\u001b[0m np\u001b[38;5;241m.\u001b[39marray(x_train[\u001b[38;5;241m0\u001b[39m:\u001b[38;5;241m100\u001b[39m])\n",
      "\u001b[1;31mValueError\u001b[0m: setting an array element with a sequence. The requested array has an inhomogeneous shape after 1 dimensions. The detected shape was (100,) + inhomogeneous part."
     ]
    }
   ],
   "source": [
    "np.array(x_train[0:100])"
   ]
  },
  {
   "cell_type": "code",
   "execution_count": 62,
   "id": "e7da05e6-65bf-45c4-a4e2-a43f579ee473",
   "metadata": {},
   "outputs": [
    {
     "data": {
      "text/plain": [
       "<Axes: >"
      ]
     },
     "execution_count": 62,
     "metadata": {},
     "output_type": "execute_result"
    },
    {
     "data": {
      "image/png": "[encoded data removed]",
      "text/plain": [
       "<Figure size 640x480 with 1 Axes>"
      ]
     },
     "metadata": {},
     "output_type": "display_data"
    }
   ],
   "source": [
    "rev_len = [len(i) for i in x_train]\n",
    "pd.Series(rev_len).hist()"
   ]
  },
  {
   "cell_type": "markdown",
   "id": "eeb3db38-a352-4160-8a4f-4a3ceac05f26",
   "metadata": {},
   "source": [
    "4. 准备模型的数据\n",
    "4. Zhǔnbèi móxíng de shùjù"
   ]
  },
  {
   "cell_type": "code",
   "execution_count": 63,
   "id": "244699f4-2b95-417c-ae84-bf188fb31ff7",
   "metadata": {},
   "outputs": [],
   "source": [
    "def padding_(sentences, seq_len):\n",
    "    features = np.zeros((len(sentences), seq_len),dtype=int)\n",
    "    for ii, review in enumerate(sentences):\n",
    "        if len(review) != 0:\n",
    "            features[ii, -len(review):] = np.array(review)[:seq_len]\n",
    "    return features\n",
    "\n",
    "\n",
    "x_train_pad = padding_(x_train,500)\n",
    "x_test_pad = padding_(x_test,500)"
   ]
  },
  {
   "cell_type": "code",
   "execution_count": 68,
   "id": "756b0d2f-baa1-4740-91c4-68155e4fa78f",
   "metadata": {},
   "outputs": [
    {
     "ename": "TypeError",
     "evalue": "expected np.ndarray (got list)",
     "output_type": "error",
     "traceback": [
      "\u001b[1;31m---------------------------------------------------------------------------\u001b[0m",
      "\u001b[1;31mTypeError\u001b[0m                                 Traceback (most recent call last)",
      "Cell \u001b[1;32mIn[68], line 2\u001b[0m\n\u001b[0;32m      1\u001b[0m \u001b[38;5;66;03m# create Tensor datasets\u001b[39;00m\n\u001b[1;32m----> 2\u001b[0m train_data \u001b[38;5;241m=\u001b[39m TensorDataset(torch\u001b[38;5;241m.\u001b[39mfrom_numpy(x_train_pad), torch\u001b[38;5;241m.\u001b[39mfrom_numpy(y_train))\n\u001b[0;32m      3\u001b[0m valid_data \u001b[38;5;241m=\u001b[39m TensorDataset(torch\u001b[38;5;241m.\u001b[39mfrom_numpy(x_test_pad), torch\u001b[38;5;241m.\u001b[39mfrom_numpy(y_test))\n",
      "\u001b[1;31mTypeError\u001b[0m: expected np.ndarray (got list)"
     ]
    }
   ],
   "source": [
    "# create Tensor datasets\n",
    "train_data = TensorDataset(torch.from_numpy(x_train_pad), torch.from_numpy(y_train))\n",
    "valid_data = TensorDataset(torch.from_numpy(x_test_pad), torch.from_numpy(y_test))\n"
   ]
  },
  {
   "cell_type": "code",
   "execution_count": null,
   "id": "8536e0da-2b6a-4d6c-97b9-581b63dab97f",
   "metadata": {},
   "outputs": [],
   "source": []
  },
  {
   "cell_type": "code",
   "execution_count": null,
   "id": "e31aa40a-b7f1-4625-89b1-5f55e898e275",
   "metadata": {},
   "outputs": [],
   "source": []
  },
  {
   "cell_type": "code",
   "execution_count": null,
   "id": "31acb21e-f4b9-4581-9223-efa19dd71528",
   "metadata": {},
   "outputs": [],
   "source": []
  },
  {
   "cell_type": "code",
   "execution_count": null,
   "id": "e1ab29c0-541c-4313-b1ee-1444ad7871a6",
   "metadata": {},
   "outputs": [],
   "source": []
  },
  {
   "cell_type": "raw",
   "id": "41b13272-48d2-4777-ac7b-8a0ec14b61b8",
   "metadata": {
    "jp-MarkdownHeadingCollapsed": true
   },
   "source": [
    "def preprocess_string(s):\n",
    "    # Remove all non-word characters (everything except numbers and letters)\n",
    "    s = re.sub(r\"[^\\w\\s]\", '', s)\n",
    "    # Replace all runs of whitespaces with no space\n",
    "    s = re.sub(r\"\\s+\", '', s)\n",
    "    # replace digits with no space\n",
    "    s = re.sub(r\"\\d\", '', s)\n",
    "    return s\n",
    "\n",
    "word_list = []\n",
    "\n",
    "stop_words = set(stopwords.words('english'))\n",
    "for sent in x_train:\n",
    "    for word in sent.lower().split():\n",
    "        word = preprocess_string(word)\n",
    "        if word not in stop_words and word != '':\n",
    "            word_list.append(word)\n",
    "\n",
    "corpus = Counter(word_list)\n",
    "# sorting on the basis of most common words\n",
    "corpus_ = sorted(corpus,key=corpus.get,reverse=True)[:1000]\n",
    "# creating a dict\n",
    "onehot_dict = {w:i+1 for i,w in enumerate(corpus_)}\n",
    "\n",
    "# tokenize\n",
    "final_list_train,final_list_test = [],[]\n",
    "for sent in x_train:\n",
    "        final_list_train.append([onehot_dict[preprocess_string(word)] for word in sent.lower().split()\n",
    "                                 if preprocess_string(word) in onehot_dict.keys()])\n",
    "    \n",
    "for sent in x_test:\n",
    "        final_list_test.append([onehot_dict[preprocess_string(word)] for word in sent.lower().split()\n",
    "                                if preprocess_string(word) in onehot_dict.keys()])\n",
    "\n",
    "encoded_train = [1 if label =='positive' else 0 for label in y_train]  \n",
    "encoded_test = [1 if label =='positive' else 0 for label in y_test]\n",
    "\n",
    "len(final_list_train)\n",
    "\n",
    "len(final_list_test)\n",
    "\n",
    "len(encoded_train)\n",
    "\n",
    "len(encoded_test)\n",
    "\n",
    "np.array(final_list_train)\n",
    "\n",
    "test = np.concatenate(final_list_train)\n",
    "\n",
    "test\n",
    "\n",
    "test = np.concatenate(encoded_train)\n",
    "\n",
    "unique_categories\n",
    "\n",
    "# 使用set来获取唯一值，这将去除重复的类别\n",
    "unique_categories = list(set(encoded_train))"
   ]
  },
  {
   "cell_type": "code",
   "execution_count": null,
   "id": "66d46044-df26-4559-b7b7-f7c0b7a897ab",
   "metadata": {},
   "outputs": [],
   "source": []
  },
  {
   "cell_type": "code",
   "execution_count": null,
   "id": "f4e0cfb4-7c6b-468e-93d9-a5cc54191a0b",
   "metadata": {},
   "outputs": [],
   "source": []
  },
  {
   "cell_type": "code",
   "execution_count": null,
   "id": "2f38b60c-50cb-4c40-8bb6-f92bb7535736",
   "metadata": {},
   "outputs": [],
   "source": []
  },
  {
   "cell_type": "code",
   "execution_count": null,
   "id": "c134276f-4b33-4f80-b30c-218116b104a2",
   "metadata": {},
   "outputs": [],
   "source": []
  },
  {
   "cell_type": "code",
   "execution_count": null,
   "id": "59ea4d11-e813-476d-953d-7eeb45caca5d",
   "metadata": {},
   "outputs": [],
   "source": []
  },
  {
   "cell_type": "code",
   "execution_count": null,
   "id": "e3fcba35-1c15-4379-8372-b658778f296c",
   "metadata": {},
   "outputs": [],
   "source": []
  },
  {
   "cell_type": "code",
   "execution_count": 27,
   "id": "c1ac3793-d259-4a40-a988-b92f74ac1c73",
   "metadata": {},
   "outputs": [
    {
     "ename": "ValueError",
     "evalue": "setting an array element with a sequence. The requested array has an inhomogeneous shape after 1 dimensions. The detected shape was (37499,) + inhomogeneous part.",
     "output_type": "error",
     "traceback": [
      "\u001b[1;31m---------------------------------------------------------------------------\u001b[0m",
      "\u001b[1;31mValueError\u001b[0m                                Traceback (most recent call last)",
      "Cell \u001b[1;32mIn[27], line 49\u001b[0m\n\u001b[0;32m     45\u001b[0m     encoded_test \u001b[38;5;241m=\u001b[39m [\u001b[38;5;241m1\u001b[39m \u001b[38;5;28;01mif\u001b[39;00m label \u001b[38;5;241m==\u001b[39m\u001b[38;5;124m'\u001b[39m\u001b[38;5;124mpositive\u001b[39m\u001b[38;5;124m'\u001b[39m \u001b[38;5;28;01melse\u001b[39;00m \u001b[38;5;241m0\u001b[39m \u001b[38;5;28;01mfor\u001b[39;00m label \u001b[38;5;129;01min\u001b[39;00m y_val]\n\u001b[0;32m     46\u001b[0m     \u001b[38;5;28;01mreturn\u001b[39;00m np\u001b[38;5;241m.\u001b[39marray(final_list_train), np\u001b[38;5;241m.\u001b[39marray(encoded_train),np\u001b[38;5;241m.\u001b[39marray(final_list_test), np\u001b[38;5;241m.\u001b[39marray(encoded_test),onehot_dict\n\u001b[1;32m---> 49\u001b[0m x_train,y_train,x_test,y_test,vocab \u001b[38;5;241m=\u001b[39m tokenize(x_train,y_train,x_test,y_test)\n",
      "Cell \u001b[1;32mIn[27], line 46\u001b[0m, in \u001b[0;36mtokenize\u001b[1;34m(x_train, y_train, x_val, y_val)\u001b[0m\n\u001b[0;32m     44\u001b[0m encoded_train \u001b[38;5;241m=\u001b[39m [\u001b[38;5;241m1\u001b[39m \u001b[38;5;28;01mif\u001b[39;00m label \u001b[38;5;241m==\u001b[39m\u001b[38;5;124m'\u001b[39m\u001b[38;5;124mpositive\u001b[39m\u001b[38;5;124m'\u001b[39m \u001b[38;5;28;01melse\u001b[39;00m \u001b[38;5;241m0\u001b[39m \u001b[38;5;28;01mfor\u001b[39;00m label \u001b[38;5;129;01min\u001b[39;00m y_train]  \n\u001b[0;32m     45\u001b[0m encoded_test \u001b[38;5;241m=\u001b[39m [\u001b[38;5;241m1\u001b[39m \u001b[38;5;28;01mif\u001b[39;00m label \u001b[38;5;241m==\u001b[39m\u001b[38;5;124m'\u001b[39m\u001b[38;5;124mpositive\u001b[39m\u001b[38;5;124m'\u001b[39m \u001b[38;5;28;01melse\u001b[39;00m \u001b[38;5;241m0\u001b[39m \u001b[38;5;28;01mfor\u001b[39;00m label \u001b[38;5;129;01min\u001b[39;00m y_val]\n\u001b[1;32m---> 46\u001b[0m \u001b[38;5;28;01mreturn\u001b[39;00m np\u001b[38;5;241m.\u001b[39marray(final_list_train), np\u001b[38;5;241m.\u001b[39marray(encoded_train),np\u001b[38;5;241m.\u001b[39marray(final_list_test), np\u001b[38;5;241m.\u001b[39marray(encoded_test),onehot_dict\n",
      "\u001b[1;31mValueError\u001b[0m: setting an array element with a sequence. The requested array has an inhomogeneous shape after 1 dimensions. The detected shape was (37499,) + inhomogeneous part."
     ]
    }
   ],
   "source": [
    "def preprocess_string(s):\n",
    "    # Remove all non-word characters (everything except numbers and letters)\n",
    "    s = re.sub(r\"[^\\w\\s]\", '', s)\n",
    "    # Replace all runs of whitespaces with no space\n",
    "    s = re.sub(r\"\\s+\", '', s)\n",
    "    # replace digits with no space\n",
    "    s = re.sub(r\"\\d\", '', s)\n",
    "    return s\n",
    "\n",
    "\n",
    "def tokenize(x_train,y_train,x_val,y_val):\n",
    "    word_list = []\n",
    "\n",
    "\n",
    "    stop_words = set(stopwords.words('english'))\n",
    "    for sent in x_train:\n",
    "        for word in sent.lower().split():\n",
    "            word = preprocess_string(word)\n",
    "            if word not in stop_words and word != '':\n",
    "                word_list.append(word)\n",
    " \n",
    "    corpus = Counter(word_list)\n",
    "    # sorting on the basis of most common words\n",
    "    corpus_ = sorted(corpus,key=corpus.get,reverse=True)[:1000]\n",
    "    # creating a dict\n",
    "    onehot_dict = {w:i+1 for i,w in enumerate(corpus_)}\n",
    "   \n",
    "    # tokenize\n",
    "    final_list_train,final_list_test = [],[]\n",
    "    \n",
    "    for sent in x_train:\n",
    "        token_list = [onehot_dict[preprocess_string(word)] for word in sent.lower().split()\n",
    "                      if preprocess_string(word) in onehot_dict.keys() and preprocess_string(word)]\n",
    "        if token_list:  # 只在token_list不为空时追加\n",
    "            final_list_train.append(token_list)\n",
    "    \n",
    "    for sent in x_val:\n",
    "        token_list = [onehot_dict[preprocess_string(word)] for word in sent.lower().split()\n",
    "                      if preprocess_string(word) in onehot_dict.keys() and preprocess_string(word)]\n",
    "        if token_list:  # 只在token_list不为空时追加\n",
    "            final_list_test.append(token_list)\n",
    "\n",
    "           \n",
    "    encoded_train = [1 if label =='positive' else 0 for label in y_train]  \n",
    "    encoded_test = [1 if label =='positive' else 0 for label in y_val]\n",
    "    return np.array(final_list_train), np.array(encoded_train),np.array(final_list_test), np.array(encoded_test),onehot_dict\n",
    "\n",
    "\n",
    "x_train,y_train,x_test,y_test,vocab = tokenize(x_train,y_train,x_test,y_test)"
   ]
  },
  {
   "cell_type": "code",
   "execution_count": null,
   "id": "272d1741-9d0c-4c72-a4d7-303c01befcab",
   "metadata": {},
   "outputs": [],
   "source": []
  }
 ],
 "metadata": {
  "kernelspec": {
   "display_name": "Python 3 (ipykernel)",
   "language": "python",
   "name": "python3"
  },
  "language_info": {
   "codemirror_mode": {
    "name": "ipython",
    "version": 3
   },
   "file_extension": ".py",
   "mimetype": "text/x-python",
   "name": "python",
   "nbconvert_exporter": "python",
   "pygments_lexer": "ipython3",
   "version": "3.11.7"
  }
 },
 "nbformat": 4,
 "nbformat_minor": 5
}
