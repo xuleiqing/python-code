{
 "cells": [
  {
   "cell_type": "code",
   "execution_count": 1,
   "id": "541b92d3-853a-4296-becc-ef3371800bf4",
   "metadata": {},
   "outputs": [],
   "source": [
    "# -*- coding: utf-8 -*-\n",
    "import numpy as np\n",
    "import math\n",
    "\n",
    "# Create random input and output data\n",
    "x = np.linspace(-math.pi, math.pi, 2000)\n",
    "y = np.sin(x)\n",
    "\n",
    "# Randomly initialize weights\n",
    "a = np.random.randn()\n",
    "b = np.random.randn()\n",
    "c = np.random.randn()\n",
    "d = np.random.randn()"
   ]
  },
  {
   "cell_type": "code",
   "execution_count": 2,
   "id": "59da69e6-d293-493f-8044-1f021b214acb",
   "metadata": {},
   "outputs": [],
   "source": [
    "learning_rate = 1e-6"
   ]
  },
  {
   "cell_type": "code",
   "execution_count": 3,
   "id": "378b92ee-08e6-4534-861c-ae2f8aab0c6c",
   "metadata": {},
   "outputs": [
    {
     "name": "stdout",
     "output_type": "stream",
     "text": [
      "99 3800.2758630850003\n",
      "199 2517.39972930093\n",
      "299 1668.6686696026811\n",
      "399 1107.1378542550378\n",
      "499 735.6080898144921\n",
      "599 489.7801235195035\n",
      "699 327.11747549948586\n",
      "799 219.47973843486227\n",
      "899 148.24975633830616\n",
      "999 101.11034610444656\n",
      "1099 69.91210835165978\n",
      "1199 49.26295393072115\n",
      "1299 35.59502968339459\n",
      "1399 26.54744103334224\n",
      "1499 20.557877717328076\n",
      "1599 16.59243508064958\n",
      "1699 13.96685848470064\n",
      "1799 12.228270466682096\n",
      "1899 11.07691279396225\n",
      "1999 10.314362996589509\n",
      "Result: y = 0.007085519336605165 + 0.8196944424843867 x + -0.0012223699891150681 x^2 + -0.08806086115965166 x^3\n"
     ]
    }
   ],
   "source": [
    "for t in range(2000):\n",
    "    # Forward pass: compute predicted y\n",
    "    # y = a + b x + c x^2 + d x^3\n",
    "    y_pred = a + b * x + c * x ** 2 + d * x ** 3\n",
    "\n",
    "    # Compute and print loss\n",
    "    loss = np.square(y_pred - y).sum()\n",
    "    if t % 100 == 99:\n",
    "        print(t, loss)\n",
    "\n",
    "    # Backprop to compute gradients of a, b, c, d with respect to loss\n",
    "    grad_y_pred = 2.0 * (y_pred - y)\n",
    "    grad_a = grad_y_pred.sum()\n",
    "    grad_b = (grad_y_pred * x).sum()\n",
    "    grad_c = (grad_y_pred * x ** 2).sum()\n",
    "    grad_d = (grad_y_pred * x ** 3).sum()\n",
    "\n",
    "    # Update weights\n",
    "    a -= learning_rate * grad_a\n",
    "    b -= learning_rate * grad_b\n",
    "    c -= learning_rate * grad_c\n",
    "    d -= learning_rate * grad_d\n",
    "\n",
    "print(f'Result: y = {a} + {b} x + {c} x^2 + {d} x^3')"
   ]
  },
  {
   "cell_type": "code",
   "execution_count": null,
   "id": "48dfcba4-1876-4c7d-8e2b-73ed7ed299f5",
   "metadata": {},
   "outputs": [],
   "source": []
  }
 ],
 "metadata": {
  "kernelspec": {
   "display_name": "Python 3 (ipykernel)",
   "language": "python",
   "name": "python3"
  },
  "language_info": {
   "codemirror_mode": {
    "name": "ipython",
    "version": 3
   },
   "file_extension": ".py",
   "mimetype": "text/x-python",
   "name": "python",
   "nbconvert_exporter": "python",
   "pygments_lexer": "ipython3",
   "version": "3.11.7"
  }
 },
 "nbformat": 4,
 "nbformat_minor": 5
}
